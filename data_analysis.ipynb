{
 "metadata": {
  "language_info": {
   "codemirror_mode": {
    "name": "ipython",
    "version": 3
   },
   "file_extension": ".py",
   "mimetype": "text/x-python",
   "name": "python",
   "nbconvert_exporter": "python",
   "pygments_lexer": "ipython3",
   "version": "3.6.2-final"
  },
  "orig_nbformat": 2,
  "kernelspec": {
   "name": "python3",
   "display_name": "Python 3.6.2 32-bit",
   "metadata": {
    "interpreter": {
     "hash": "753d03e470f84790a55386743c0c4e9432700d277da564c150c53b828dcd537b"
    }
   }
  }
 },
 "nbformat": 4,
 "nbformat_minor": 2,
 "cells": [
  {
   "cell_type": "code",
   "execution_count": 696,
   "metadata": {},
   "outputs": [],
   "source": [
    "import pandas as pd\n",
    "import openpyxl as op\n",
    "import seaborn as sns\n",
    "from scipy import stats\n",
    "import numpy as np\n",
    "from sklearn.preprocessing import OneHotEncoder,LabelEncoder,PolynomialFeatures,StandardScaler\n",
    "from sklearn import preprocessing\n",
    "from sklearn.model_selection import train_test_split\n",
    "from sklearn.preprocessing import PolynomialFeatures\n",
    "import sklearn.metrics as metrics\n",
    "from sklearn.metrics import mean_squared_error\n",
    "from sklearn.linear_model import LinearRegression,RidgeCV, LassoCV\n",
    "from sklearn.metrics import mean_squared_error, r2_score\n",
    "from sklearn.ensemble import RandomForestRegressor,GradientBoostingRegressor,VotingRegressor,AdaBoostRegressor,StackingRegressor\n",
    "from sklearn.neighbors import KNeighborsRegressor\n",
    "from sklearn.model_selection import cross_val_score\n",
    "from statistics import mean\n",
    "from sklearn import svm\n",
    "from sklearn.pipeline import Pipeline,make_pipeline\n",
    "from sklearn.tree import DecisionTreeRegressor\n",
    "from sklearn.svm import SVC\n",
    "from sklearn.decomposition import PCA\n",
    "from sklearn.neural_network import MLPRegressor\n",
    "from sklearn.experimental import enable_hist_gradient_boosting\n",
    "from sklearn.ensemble import HistGradientBoostingRegressor\n"
   ]
  },
  {
   "cell_type": "code",
   "execution_count": 620,
   "metadata": {},
   "outputs": [
    {
     "output_type": "execute_result",
     "data": {
      "text/plain": [
       "   ID GenderSelect        Country   Age  \\\n",
       "0   1         Male       Pakistan  28.0   \n",
       "1   2         Male         Mexico  26.0   \n",
       "2   3       Female  United States  34.0   \n",
       "3   4       Female  United States  33.0   \n",
       "4   5       Female  United States  35.0   \n",
       "\n",
       "                                    EmploymentStatus CodeWriter  \\\n",
       "0  Independent contractor, freelancer, or self-em...        Yes   \n",
       "1                                 Employed full-time        Yes   \n",
       "2                                 Employed full-time        Yes   \n",
       "3                                 Employed full-time        Yes   \n",
       "4                                 Employed full-time        Yes   \n",
       "\n",
       "                  CurrentJobTitleSelect TitleFit  \\\n",
       "0  Software Developer/Software Engineer     Fine   \n",
       "1                    Computer Scientist   Poorly   \n",
       "2                          Data Analyst     Fine   \n",
       "3                  Scientist/Researcher     Fine   \n",
       "4  Software Developer/Software Engineer     Fine   \n",
       "\n",
       "                                 CurrentEmployerType  \\\n",
       "0                                      Self-employed   \n",
       "1  Employed by a company that doesn't perform adv...   \n",
       "2                             Employed by government   \n",
       "3                  Employed by college or university   \n",
       "4  Employed by a company that performs advanced a...   \n",
       "\n",
       "           MLToolNextYearSelect  ... WorkChallengeFrequencyExplaining  \\\n",
       "0                        Python  ...                             None   \n",
       "1                        Python  ...                             None   \n",
       "2                    TensorFlow  ...                             None   \n",
       "3  IBM Watson / Waton Analytics  ...                             None   \n",
       "4          Google Cloud Compute  ...                             None   \n",
       "\n",
       "  WorkChallengeFrequencyTalent WorkChallengeFrequencyClarity  \\\n",
       "0                         None                          None   \n",
       "1                        Often                          None   \n",
       "2                    Sometimes                          None   \n",
       "3                         None                        Rarely   \n",
       "4                         None                          None   \n",
       "\n",
       "  WorkChallengeFrequencyDataAccess CompensationScore WorkDataVisualizations  \\\n",
       "0                             None               8.0     51-75% of projects   \n",
       "1                             None               NaN       100% of projects   \n",
       "2                 Most of the time               2.0     10-25% of projects   \n",
       "3                           Rarely               2.0     76-99% of projects   \n",
       "4                        Sometimes               8.0       100% of projects   \n",
       "\n",
       "                     WorkInternalVsExternalTools WorkMLTeamSeatSelect  \\\n",
       "0  Approximately half internal and half external      Standalone Team   \n",
       "1                    More internal than external  Business Department   \n",
       "2                    More internal than external                Other   \n",
       "3                                    Do not know                Other   \n",
       "4                              Entirely internal                Other   \n",
       "\n",
       "  RemoteWork JobSatisfaction  \n",
       "0       None               4  \n",
       "1       None               7  \n",
       "2     Rarely               6  \n",
       "3     Rarely               9  \n",
       "4     Rarely               8  \n",
       "\n",
       "[5 rows x 54 columns]"
      ],
      "text/html": "<div>\n<style scoped>\n    .dataframe tbody tr th:only-of-type {\n        vertical-align: middle;\n    }\n\n    .dataframe tbody tr th {\n        vertical-align: top;\n    }\n\n    .dataframe thead th {\n        text-align: right;\n    }\n</style>\n<table border=\"1\" class=\"dataframe\">\n  <thead>\n    <tr style=\"text-align: right;\">\n      <th></th>\n      <th>ID</th>\n      <th>GenderSelect</th>\n      <th>Country</th>\n      <th>Age</th>\n      <th>EmploymentStatus</th>\n      <th>CodeWriter</th>\n      <th>CurrentJobTitleSelect</th>\n      <th>TitleFit</th>\n      <th>CurrentEmployerType</th>\n      <th>MLToolNextYearSelect</th>\n      <th>...</th>\n      <th>WorkChallengeFrequencyExplaining</th>\n      <th>WorkChallengeFrequencyTalent</th>\n      <th>WorkChallengeFrequencyClarity</th>\n      <th>WorkChallengeFrequencyDataAccess</th>\n      <th>CompensationScore</th>\n      <th>WorkDataVisualizations</th>\n      <th>WorkInternalVsExternalTools</th>\n      <th>WorkMLTeamSeatSelect</th>\n      <th>RemoteWork</th>\n      <th>JobSatisfaction</th>\n    </tr>\n  </thead>\n  <tbody>\n    <tr>\n      <th>0</th>\n      <td>1</td>\n      <td>Male</td>\n      <td>Pakistan</td>\n      <td>28.0</td>\n      <td>Independent contractor, freelancer, or self-em...</td>\n      <td>Yes</td>\n      <td>Software Developer/Software Engineer</td>\n      <td>Fine</td>\n      <td>Self-employed</td>\n      <td>Python</td>\n      <td>...</td>\n      <td>None</td>\n      <td>None</td>\n      <td>None</td>\n      <td>None</td>\n      <td>8.0</td>\n      <td>51-75% of projects</td>\n      <td>Approximately half internal and half external</td>\n      <td>Standalone Team</td>\n      <td>None</td>\n      <td>4</td>\n    </tr>\n    <tr>\n      <th>1</th>\n      <td>2</td>\n      <td>Male</td>\n      <td>Mexico</td>\n      <td>26.0</td>\n      <td>Employed full-time</td>\n      <td>Yes</td>\n      <td>Computer Scientist</td>\n      <td>Poorly</td>\n      <td>Employed by a company that doesn't perform adv...</td>\n      <td>Python</td>\n      <td>...</td>\n      <td>None</td>\n      <td>Often</td>\n      <td>None</td>\n      <td>None</td>\n      <td>NaN</td>\n      <td>100% of projects</td>\n      <td>More internal than external</td>\n      <td>Business Department</td>\n      <td>None</td>\n      <td>7</td>\n    </tr>\n    <tr>\n      <th>2</th>\n      <td>3</td>\n      <td>Female</td>\n      <td>United States</td>\n      <td>34.0</td>\n      <td>Employed full-time</td>\n      <td>Yes</td>\n      <td>Data Analyst</td>\n      <td>Fine</td>\n      <td>Employed by government</td>\n      <td>TensorFlow</td>\n      <td>...</td>\n      <td>None</td>\n      <td>Sometimes</td>\n      <td>None</td>\n      <td>Most of the time</td>\n      <td>2.0</td>\n      <td>10-25% of projects</td>\n      <td>More internal than external</td>\n      <td>Other</td>\n      <td>Rarely</td>\n      <td>6</td>\n    </tr>\n    <tr>\n      <th>3</th>\n      <td>4</td>\n      <td>Female</td>\n      <td>United States</td>\n      <td>33.0</td>\n      <td>Employed full-time</td>\n      <td>Yes</td>\n      <td>Scientist/Researcher</td>\n      <td>Fine</td>\n      <td>Employed by college or university</td>\n      <td>IBM Watson / Waton Analytics</td>\n      <td>...</td>\n      <td>None</td>\n      <td>None</td>\n      <td>Rarely</td>\n      <td>Rarely</td>\n      <td>2.0</td>\n      <td>76-99% of projects</td>\n      <td>Do not know</td>\n      <td>Other</td>\n      <td>Rarely</td>\n      <td>9</td>\n    </tr>\n    <tr>\n      <th>4</th>\n      <td>5</td>\n      <td>Female</td>\n      <td>United States</td>\n      <td>35.0</td>\n      <td>Employed full-time</td>\n      <td>Yes</td>\n      <td>Software Developer/Software Engineer</td>\n      <td>Fine</td>\n      <td>Employed by a company that performs advanced a...</td>\n      <td>Google Cloud Compute</td>\n      <td>...</td>\n      <td>None</td>\n      <td>None</td>\n      <td>None</td>\n      <td>Sometimes</td>\n      <td>8.0</td>\n      <td>100% of projects</td>\n      <td>Entirely internal</td>\n      <td>Other</td>\n      <td>Rarely</td>\n      <td>8</td>\n    </tr>\n  </tbody>\n</table>\n<p>5 rows × 54 columns</p>\n</div>"
     },
     "metadata": {},
     "execution_count": 620
    }
   ],
   "source": [
    "wb = op.load_workbook(\"train.xlsx\")\n",
    "ws = wb.active\n",
    "data = ws.values \n",
    "columns = next(data)[0:]\n",
    "df_train = pd.DataFrame(data,columns = columns)\n",
    "df_train.head()"
   ]
  },
  {
   "cell_type": "code",
   "execution_count": 621,
   "metadata": {},
   "outputs": [
    {
     "output_type": "execute_result",
     "data": {
      "text/plain": [
       "   ID GenderSelect         Country   Age  \\\n",
       "0   1         Male   United States  59.0   \n",
       "1   2         Male  United Kingdom  30.0   \n",
       "2   3         Male   United States  19.0   \n",
       "3   4         Male   United States  50.0   \n",
       "4   5         Male           Other  35.0   \n",
       "\n",
       "                                    EmploymentStatus CodeWriter  \\\n",
       "0  Independent contractor, freelancer, or self-em...        Yes   \n",
       "1                                 Employed full-time        Yes   \n",
       "2                                 Employed full-time        Yes   \n",
       "3                                 Employed full-time        Yes   \n",
       "4                                 Employed full-time        Yes   \n",
       "\n",
       "                  CurrentJobTitleSelect   TitleFit  \\\n",
       "0  Software Developer/Software Engineer  Perfectly   \n",
       "1                        Data Scientist       Fine   \n",
       "2                              Engineer       Fine   \n",
       "3                            Researcher       Fine   \n",
       "4                        Data Scientist  Perfectly   \n",
       "\n",
       "                                 CurrentEmployerType  \\\n",
       "0                                      Self-employed   \n",
       "1  Employed by a company that performs advanced a...   \n",
       "2  Employed by a company that performs advanced a...   \n",
       "3                  Employed by college or university   \n",
       "4  Employed by a company that performs advanced a...   \n",
       "\n",
       "               MLToolNextYearSelect  ... WorkChallengeFrequencyDirtyData  \\\n",
       "0                              Stan  ...                           Often   \n",
       "1                             Other  ...                           Often   \n",
       "2                        TensorFlow  ...                Most of the time   \n",
       "3  Microsoft SQL Server Data Mining  ...                            None   \n",
       "4                             C/C++  ...                Most of the time   \n",
       "\n",
       "  WorkChallengeFrequencyExplaining WorkChallengeFrequencyTalent  \\\n",
       "0                             None                         None   \n",
       "1                             None                         None   \n",
       "2                             None                         None   \n",
       "3                        Sometimes                         None   \n",
       "4                             None                         None   \n",
       "\n",
       "  WorkChallengeFrequencyClarity WorkChallengeFrequencyDataAccess  \\\n",
       "0                     Sometimes                        Sometimes   \n",
       "1              Most of the time                 Most of the time   \n",
       "2                          None                 Most of the time   \n",
       "3              Most of the time                             None   \n",
       "4                     Sometimes                        Sometimes   \n",
       "\n",
       "  CompensationScore     WorkDataVisualizations  WorkInternalVsExternalTools  \\\n",
       "0               NaN         76-99% of projects            Entirely internal   \n",
       "1               NaN           100% of projects                  Do not know   \n",
       "2               2.0           100% of projects            Entirely internal   \n",
       "3               4.0         10-25% of projects  More internal than external   \n",
       "4               8.0  Less than 10% of projects            Entirely internal   \n",
       "\n",
       "  WorkMLTeamSeatSelect        RemoteWork  \n",
       "0                 None  Most of the time  \n",
       "1      Standalone Team             Never  \n",
       "2      Standalone Team            Rarely  \n",
       "3  Business Department              None  \n",
       "4      Standalone Team            Rarely  \n",
       "\n",
       "[5 rows x 53 columns]"
      ],
      "text/html": "<div>\n<style scoped>\n    .dataframe tbody tr th:only-of-type {\n        vertical-align: middle;\n    }\n\n    .dataframe tbody tr th {\n        vertical-align: top;\n    }\n\n    .dataframe thead th {\n        text-align: right;\n    }\n</style>\n<table border=\"1\" class=\"dataframe\">\n  <thead>\n    <tr style=\"text-align: right;\">\n      <th></th>\n      <th>ID</th>\n      <th>GenderSelect</th>\n      <th>Country</th>\n      <th>Age</th>\n      <th>EmploymentStatus</th>\n      <th>CodeWriter</th>\n      <th>CurrentJobTitleSelect</th>\n      <th>TitleFit</th>\n      <th>CurrentEmployerType</th>\n      <th>MLToolNextYearSelect</th>\n      <th>...</th>\n      <th>WorkChallengeFrequencyDirtyData</th>\n      <th>WorkChallengeFrequencyExplaining</th>\n      <th>WorkChallengeFrequencyTalent</th>\n      <th>WorkChallengeFrequencyClarity</th>\n      <th>WorkChallengeFrequencyDataAccess</th>\n      <th>CompensationScore</th>\n      <th>WorkDataVisualizations</th>\n      <th>WorkInternalVsExternalTools</th>\n      <th>WorkMLTeamSeatSelect</th>\n      <th>RemoteWork</th>\n    </tr>\n  </thead>\n  <tbody>\n    <tr>\n      <th>0</th>\n      <td>1</td>\n      <td>Male</td>\n      <td>United States</td>\n      <td>59.0</td>\n      <td>Independent contractor, freelancer, or self-em...</td>\n      <td>Yes</td>\n      <td>Software Developer/Software Engineer</td>\n      <td>Perfectly</td>\n      <td>Self-employed</td>\n      <td>Stan</td>\n      <td>...</td>\n      <td>Often</td>\n      <td>None</td>\n      <td>None</td>\n      <td>Sometimes</td>\n      <td>Sometimes</td>\n      <td>NaN</td>\n      <td>76-99% of projects</td>\n      <td>Entirely internal</td>\n      <td>None</td>\n      <td>Most of the time</td>\n    </tr>\n    <tr>\n      <th>1</th>\n      <td>2</td>\n      <td>Male</td>\n      <td>United Kingdom</td>\n      <td>30.0</td>\n      <td>Employed full-time</td>\n      <td>Yes</td>\n      <td>Data Scientist</td>\n      <td>Fine</td>\n      <td>Employed by a company that performs advanced a...</td>\n      <td>Other</td>\n      <td>...</td>\n      <td>Often</td>\n      <td>None</td>\n      <td>None</td>\n      <td>Most of the time</td>\n      <td>Most of the time</td>\n      <td>NaN</td>\n      <td>100% of projects</td>\n      <td>Do not know</td>\n      <td>Standalone Team</td>\n      <td>Never</td>\n    </tr>\n    <tr>\n      <th>2</th>\n      <td>3</td>\n      <td>Male</td>\n      <td>United States</td>\n      <td>19.0</td>\n      <td>Employed full-time</td>\n      <td>Yes</td>\n      <td>Engineer</td>\n      <td>Fine</td>\n      <td>Employed by a company that performs advanced a...</td>\n      <td>TensorFlow</td>\n      <td>...</td>\n      <td>Most of the time</td>\n      <td>None</td>\n      <td>None</td>\n      <td>None</td>\n      <td>Most of the time</td>\n      <td>2.0</td>\n      <td>100% of projects</td>\n      <td>Entirely internal</td>\n      <td>Standalone Team</td>\n      <td>Rarely</td>\n    </tr>\n    <tr>\n      <th>3</th>\n      <td>4</td>\n      <td>Male</td>\n      <td>United States</td>\n      <td>50.0</td>\n      <td>Employed full-time</td>\n      <td>Yes</td>\n      <td>Researcher</td>\n      <td>Fine</td>\n      <td>Employed by college or university</td>\n      <td>Microsoft SQL Server Data Mining</td>\n      <td>...</td>\n      <td>None</td>\n      <td>Sometimes</td>\n      <td>None</td>\n      <td>Most of the time</td>\n      <td>None</td>\n      <td>4.0</td>\n      <td>10-25% of projects</td>\n      <td>More internal than external</td>\n      <td>Business Department</td>\n      <td>None</td>\n    </tr>\n    <tr>\n      <th>4</th>\n      <td>5</td>\n      <td>Male</td>\n      <td>Other</td>\n      <td>35.0</td>\n      <td>Employed full-time</td>\n      <td>Yes</td>\n      <td>Data Scientist</td>\n      <td>Perfectly</td>\n      <td>Employed by a company that performs advanced a...</td>\n      <td>C/C++</td>\n      <td>...</td>\n      <td>Most of the time</td>\n      <td>None</td>\n      <td>None</td>\n      <td>Sometimes</td>\n      <td>Sometimes</td>\n      <td>8.0</td>\n      <td>Less than 10% of projects</td>\n      <td>Entirely internal</td>\n      <td>Standalone Team</td>\n      <td>Rarely</td>\n    </tr>\n  </tbody>\n</table>\n<p>5 rows × 53 columns</p>\n</div>"
     },
     "metadata": {},
     "execution_count": 621
    }
   ],
   "source": [
    "wb = op.load_workbook(\"test.xlsx\")\n",
    "ws = wb.active\n",
    "data = ws.values \n",
    "columns = next(data)[0:]\n",
    "df_test = pd.DataFrame(data,columns = columns)\n",
    "df_test.head()"
   ]
  },
  {
   "cell_type": "code",
   "execution_count": 622,
   "metadata": {},
   "outputs": [
    {
     "output_type": "stream",
     "name": "stdout",
     "text": [
      "Shape of dataset:  (5529, 54)\nColumn names:  Index(['ID', 'GenderSelect', 'Country', 'Age', 'EmploymentStatus',\n       'CodeWriter', 'CurrentJobTitleSelect', 'TitleFit',\n       'CurrentEmployerType', 'MLToolNextYearSelect', 'MLMethodNextYearSelect',\n       'LanguageRecommendationSelect', 'LearningPlatformUsefulnessBlogs',\n       'LearningPlatformUsefulnessKaggle', 'LearningPlatformUsefulnessCourses',\n       'LearningPlatformUsefulnessProjects', 'LearningPlatformUsefulnessSO',\n       'LearningPlatformUsefulnessTextbook',\n       'LearningPlatformUsefulnessYouTube', 'DataScienceIdentitySelect',\n       'FormalEducation', 'MajorSelect', 'Tenure', 'PastJobTitlesSelect',\n       'MLSkillsSelect', 'MLTechniquesSelect', 'EmployerIndustry',\n       'EmployerSize', 'WorkProductionFrequency', 'WorkAlgorithmsSelect',\n       'WorkToolsFrequencyPython', 'WorkToolsFrequencyR',\n       'WorkToolsFrequencySQL', 'WorkMethodsFrequencyCross-Validation',\n       'WorkMethodsFrequencyDataVisualization',\n       'WorkMethodsFrequencyDecisionTrees',\n       'WorkMethodsFrequencyLogisticRegression',\n       'WorkMethodsFrequencyNeuralNetworks', 'WorkMethodsFrequencyPCA',\n       'WorkMethodsFrequencyRandomForests',\n       'WorkMethodsFrequencyTimeSeriesAnalysis',\n       'WorkChallengeFrequencyPolitics', 'WorkChallengeFrequencyUnusedResults',\n       'WorkChallengeFrequencyDirtyData', 'WorkChallengeFrequencyExplaining',\n       'WorkChallengeFrequencyTalent', 'WorkChallengeFrequencyClarity',\n       'WorkChallengeFrequencyDataAccess', 'CompensationScore',\n       'WorkDataVisualizations', 'WorkInternalVsExternalTools',\n       'WorkMLTeamSeatSelect', 'RemoteWork', 'JobSatisfaction'],\n      dtype='object')\n"
     ]
    }
   ],
   "source": [
    "print(\"Shape of dataset: \", df_train.shape )\n",
    "print(\"Column names: \", df_train.columns)"
   ]
  },
  {
   "cell_type": "code",
   "execution_count": 623,
   "metadata": {},
   "outputs": [
    {
     "output_type": "execute_result",
     "data": {
      "text/plain": [
       "ID                                        5529\n",
       "GenderSelect                                 4\n",
       "Country                                     52\n",
       "Age                                         68\n",
       "EmploymentStatus                             3\n",
       "CodeWriter                                   1\n",
       "CurrentJobTitleSelect                       16\n",
       "TitleFit                                     3\n",
       "CurrentEmployerType                         70\n",
       "MLToolNextYearSelect                        50\n",
       "MLMethodNextYearSelect                      25\n",
       "LanguageRecommendationSelect                13\n",
       "LearningPlatformUsefulnessBlogs              3\n",
       "LearningPlatformUsefulnessKaggle             3\n",
       "LearningPlatformUsefulnessCourses            3\n",
       "LearningPlatformUsefulnessProjects           3\n",
       "LearningPlatformUsefulnessSO                 3\n",
       "LearningPlatformUsefulnessTextbook           3\n",
       "LearningPlatformUsefulnessYouTube            3\n",
       "DataScienceIdentitySelect                    3\n",
       "FormalEducation                              7\n",
       "MajorSelect                                 15\n",
       "Tenure                                       6\n",
       "PastJobTitlesSelect                       1142\n",
       "MLSkillsSelect                             647\n",
       "MLTechniquesSelect                        1181\n",
       "EmployerIndustry                            16\n",
       "EmployerSize                                10\n",
       "WorkProductionFrequency                      6\n",
       "WorkAlgorithmsSelect                      1167\n",
       "WorkToolsFrequencyPython                     4\n",
       "WorkToolsFrequencyR                          4\n",
       "WorkToolsFrequencySQL                        4\n",
       "WorkMethodsFrequencyCross-Validation         4\n",
       "WorkMethodsFrequencyDataVisualization        4\n",
       "WorkMethodsFrequencyDecisionTrees            4\n",
       "WorkMethodsFrequencyLogisticRegression       4\n",
       "WorkMethodsFrequencyNeuralNetworks           4\n",
       "WorkMethodsFrequencyPCA                      4\n",
       "WorkMethodsFrequencyRandomForests            4\n",
       "WorkMethodsFrequencyTimeSeriesAnalysis       4\n",
       "WorkChallengeFrequencyPolitics               4\n",
       "WorkChallengeFrequencyUnusedResults          4\n",
       "WorkChallengeFrequencyDirtyData              4\n",
       "WorkChallengeFrequencyExplaining             4\n",
       "WorkChallengeFrequencyTalent                 4\n",
       "WorkChallengeFrequencyClarity                4\n",
       "WorkChallengeFrequencyDataAccess             4\n",
       "CompensationScore                           11\n",
       "WorkDataVisualizations                       7\n",
       "WorkInternalVsExternalTools                  6\n",
       "WorkMLTeamSeatSelect                         5\n",
       "RemoteWork                                   6\n",
       "JobSatisfaction                             10\n",
       "dtype: int64"
      ]
     },
     "metadata": {},
     "execution_count": 623
    }
   ],
   "source": [
    "df_train.nunique(axis=0)"
   ]
  },
  {
   "cell_type": "code",
   "execution_count": 624,
   "metadata": {},
   "outputs": [
    {
     "output_type": "execute_result",
     "data": {
      "text/plain": [
       "<pandas.io.formats.style.Styler at 0x1cd8e6b0>"
      ],
      "text/html": "<style  type=\"text/css\" >\n</style><table id=\"T_656dec74_4dfc_11eb_8aff_80fa5b47903d\" ><thead>    <tr>        <th class=\"blank level0\" ></th>        <th class=\"col_heading level0 col0\" >ID</th>        <th class=\"col_heading level0 col1\" >Age</th>        <th class=\"col_heading level0 col2\" >CompensationScore</th>        <th class=\"col_heading level0 col3\" >JobSatisfaction</th>    </tr></thead><tbody>\n                <tr>\n                        <th id=\"T_656dec74_4dfc_11eb_8aff_80fa5b47903dlevel0_row0\" class=\"row_heading level0 row0\" >count</th>\n                        <td id=\"T_656dec74_4dfc_11eb_8aff_80fa5b47903drow0_col0\" class=\"data row0 col0\" >5529.00</td>\n                        <td id=\"T_656dec74_4dfc_11eb_8aff_80fa5b47903drow0_col1\" class=\"data row0 col1\" >5461.00</td>\n                        <td id=\"T_656dec74_4dfc_11eb_8aff_80fa5b47903drow0_col2\" class=\"data row0 col2\" >4373.00</td>\n                        <td id=\"T_656dec74_4dfc_11eb_8aff_80fa5b47903drow0_col3\" class=\"data row0 col3\" >5529.00</td>\n            </tr>\n            <tr>\n                        <th id=\"T_656dec74_4dfc_11eb_8aff_80fa5b47903dlevel0_row1\" class=\"row_heading level0 row1\" >mean</th>\n                        <td id=\"T_656dec74_4dfc_11eb_8aff_80fa5b47903drow1_col0\" class=\"data row1 col0\" >2765.00</td>\n                        <td id=\"T_656dec74_4dfc_11eb_8aff_80fa5b47903drow1_col1\" class=\"data row1 col1\" >34.46</td>\n                        <td id=\"T_656dec74_4dfc_11eb_8aff_80fa5b47903drow1_col2\" class=\"data row1 col2\" >4.45</td>\n                        <td id=\"T_656dec74_4dfc_11eb_8aff_80fa5b47903drow1_col3\" class=\"data row1 col3\" >6.77</td>\n            </tr>\n            <tr>\n                        <th id=\"T_656dec74_4dfc_11eb_8aff_80fa5b47903dlevel0_row2\" class=\"row_heading level0 row2\" >std</th>\n                        <td id=\"T_656dec74_4dfc_11eb_8aff_80fa5b47903drow2_col0\" class=\"data row2 col0\" >1596.23</td>\n                        <td id=\"T_656dec74_4dfc_11eb_8aff_80fa5b47903drow2_col1\" class=\"data row2 col1\" >9.89</td>\n                        <td id=\"T_656dec74_4dfc_11eb_8aff_80fa5b47903drow2_col2\" class=\"data row2 col2\" >2.93</td>\n                        <td id=\"T_656dec74_4dfc_11eb_8aff_80fa5b47903drow2_col3\" class=\"data row2 col3\" >2.15</td>\n            </tr>\n            <tr>\n                        <th id=\"T_656dec74_4dfc_11eb_8aff_80fa5b47903dlevel0_row3\" class=\"row_heading level0 row3\" >min</th>\n                        <td id=\"T_656dec74_4dfc_11eb_8aff_80fa5b47903drow3_col0\" class=\"data row3 col0\" >1.00</td>\n                        <td id=\"T_656dec74_4dfc_11eb_8aff_80fa5b47903drow3_col1\" class=\"data row3 col1\" >0.00</td>\n                        <td id=\"T_656dec74_4dfc_11eb_8aff_80fa5b47903drow3_col2\" class=\"data row3 col2\" >0.00</td>\n                        <td id=\"T_656dec74_4dfc_11eb_8aff_80fa5b47903drow3_col3\" class=\"data row3 col3\" >1.00</td>\n            </tr>\n            <tr>\n                        <th id=\"T_656dec74_4dfc_11eb_8aff_80fa5b47903dlevel0_row4\" class=\"row_heading level0 row4\" >25%</th>\n                        <td id=\"T_656dec74_4dfc_11eb_8aff_80fa5b47903drow4_col0\" class=\"data row4 col0\" >1383.00</td>\n                        <td id=\"T_656dec74_4dfc_11eb_8aff_80fa5b47903drow4_col1\" class=\"data row4 col1\" >27.00</td>\n                        <td id=\"T_656dec74_4dfc_11eb_8aff_80fa5b47903drow4_col2\" class=\"data row4 col2\" >2.00</td>\n                        <td id=\"T_656dec74_4dfc_11eb_8aff_80fa5b47903drow4_col3\" class=\"data row4 col3\" >6.00</td>\n            </tr>\n            <tr>\n                        <th id=\"T_656dec74_4dfc_11eb_8aff_80fa5b47903dlevel0_row5\" class=\"row_heading level0 row5\" >50%</th>\n                        <td id=\"T_656dec74_4dfc_11eb_8aff_80fa5b47903drow5_col0\" class=\"data row5 col0\" >2765.00</td>\n                        <td id=\"T_656dec74_4dfc_11eb_8aff_80fa5b47903drow5_col1\" class=\"data row5 col1\" >32.00</td>\n                        <td id=\"T_656dec74_4dfc_11eb_8aff_80fa5b47903drow5_col2\" class=\"data row5 col2\" >4.00</td>\n                        <td id=\"T_656dec74_4dfc_11eb_8aff_80fa5b47903drow5_col3\" class=\"data row5 col3\" >7.00</td>\n            </tr>\n            <tr>\n                        <th id=\"T_656dec74_4dfc_11eb_8aff_80fa5b47903dlevel0_row6\" class=\"row_heading level0 row6\" >75%</th>\n                        <td id=\"T_656dec74_4dfc_11eb_8aff_80fa5b47903drow6_col0\" class=\"data row6 col0\" >4147.00</td>\n                        <td id=\"T_656dec74_4dfc_11eb_8aff_80fa5b47903drow6_col1\" class=\"data row6 col1\" >40.00</td>\n                        <td id=\"T_656dec74_4dfc_11eb_8aff_80fa5b47903drow6_col2\" class=\"data row6 col2\" >8.00</td>\n                        <td id=\"T_656dec74_4dfc_11eb_8aff_80fa5b47903drow6_col3\" class=\"data row6 col3\" >8.00</td>\n            </tr>\n            <tr>\n                        <th id=\"T_656dec74_4dfc_11eb_8aff_80fa5b47903dlevel0_row7\" class=\"row_heading level0 row7\" >max</th>\n                        <td id=\"T_656dec74_4dfc_11eb_8aff_80fa5b47903drow7_col0\" class=\"data row7 col0\" >5529.00</td>\n                        <td id=\"T_656dec74_4dfc_11eb_8aff_80fa5b47903drow7_col1\" class=\"data row7 col1\" >100.00</td>\n                        <td id=\"T_656dec74_4dfc_11eb_8aff_80fa5b47903drow7_col2\" class=\"data row7 col2\" >10.00</td>\n                        <td id=\"T_656dec74_4dfc_11eb_8aff_80fa5b47903drow7_col3\" class=\"data row7 col3\" >10.00</td>\n            </tr>\n    </tbody></table>"
     },
     "metadata": {},
     "execution_count": 624
    }
   ],
   "source": [
    "df_train.describe().style.set_precision(2)"
   ]
  },
  {
   "cell_type": "code",
   "execution_count": 625,
   "metadata": {},
   "outputs": [
    {
     "output_type": "execute_result",
     "data": {
      "text/plain": [
       "array([None, 'Rarely', 'Most of the time', 'Never', 'Sometimes', 'Always',\n",
       "       \"Don't know\"], dtype=object)"
      ]
     },
     "metadata": {},
     "execution_count": 625
    }
   ],
   "source": [
    "df_train.RemoteWork.unique()"
   ]
  },
  {
   "cell_type": "code",
   "execution_count": 626,
   "metadata": {},
   "outputs": [
    {
     "output_type": "execute_result",
     "data": {
      "text/plain": [
       "True"
      ]
     },
     "metadata": {},
     "execution_count": 626
    }
   ],
   "source": [
    "df_train.isnull().values.any()\n"
   ]
  },
  {
   "cell_type": "code",
   "execution_count": 627,
   "metadata": {},
   "outputs": [
    {
     "output_type": "execute_result",
     "data": {
      "text/plain": [
       "ID                                           0\n",
       "GenderSelect                                10\n",
       "Country                                     16\n",
       "Age                                         68\n",
       "EmploymentStatus                             0\n",
       "CodeWriter                                   0\n",
       "CurrentJobTitleSelect                        2\n",
       "TitleFit                                   102\n",
       "CurrentEmployerType                         71\n",
       "MLToolNextYearSelect                       231\n",
       "MLMethodNextYearSelect                     277\n",
       "LanguageRecommendationSelect               195\n",
       "LearningPlatformUsefulnessBlogs           2998\n",
       "LearningPlatformUsefulnessKaggle          2361\n",
       "LearningPlatformUsefulnessCourses         2588\n",
       "LearningPlatformUsefulnessProjects        3030\n",
       "LearningPlatformUsefulnessSO              2533\n",
       "LearningPlatformUsefulnessTextbook        3327\n",
       "LearningPlatformUsefulnessYouTube         3116\n",
       "DataScienceIdentitySelect                 1545\n",
       "FormalEducation                              7\n",
       "MajorSelect                                519\n",
       "Tenure                                      14\n",
       "PastJobTitlesSelect                        205\n",
       "MLSkillsSelect                             273\n",
       "MLTechniquesSelect                         311\n",
       "EmployerIndustry                            12\n",
       "EmployerSize                               581\n",
       "WorkProductionFrequency                    626\n",
       "WorkAlgorithmsSelect                       426\n",
       "WorkToolsFrequencyPython                  1282\n",
       "WorkToolsFrequencyR                       2172\n",
       "WorkToolsFrequencySQL                     2529\n",
       "WorkMethodsFrequencyCross-Validation      2727\n",
       "WorkMethodsFrequencyDataVisualization     1909\n",
       "WorkMethodsFrequencyDecisionTrees         2875\n",
       "WorkMethodsFrequencyLogisticRegression    2403\n",
       "WorkMethodsFrequencyNeuralNetworks        3562\n",
       "WorkMethodsFrequencyPCA                   3483\n",
       "WorkMethodsFrequencyRandomForests         3027\n",
       "WorkMethodsFrequencyTimeSeriesAnalysis    3235\n",
       "WorkChallengeFrequencyPolitics            3437\n",
       "WorkChallengeFrequencyUnusedResults       4169\n",
       "WorkChallengeFrequencyDirtyData           2760\n",
       "WorkChallengeFrequencyExplaining          4279\n",
       "WorkChallengeFrequencyTalent              3163\n",
       "WorkChallengeFrequencyClarity             3805\n",
       "WorkChallengeFrequencyDataAccess          3809\n",
       "CompensationScore                         1156\n",
       "WorkDataVisualizations                      29\n",
       "WorkInternalVsExternalTools                116\n",
       "WorkMLTeamSeatSelect                       162\n",
       "RemoteWork                                 582\n",
       "JobSatisfaction                              0\n",
       "dtype: int64"
      ]
     },
     "metadata": {},
     "execution_count": 627
    }
   ],
   "source": [
    "df_train.isna().sum()"
   ]
  },
  {
   "cell_type": "code",
   "execution_count": 628,
   "metadata": {},
   "outputs": [
    {
     "output_type": "execute_result",
     "data": {
      "text/plain": [
       "ID                                          int64\n",
       "GenderSelect                               object\n",
       "Country                                    object\n",
       "Age                                       float64\n",
       "EmploymentStatus                           object\n",
       "CodeWriter                                 object\n",
       "CurrentJobTitleSelect                      object\n",
       "TitleFit                                   object\n",
       "CurrentEmployerType                        object\n",
       "MLToolNextYearSelect                       object\n",
       "MLMethodNextYearSelect                     object\n",
       "LanguageRecommendationSelect               object\n",
       "LearningPlatformUsefulnessBlogs            object\n",
       "LearningPlatformUsefulnessKaggle           object\n",
       "LearningPlatformUsefulnessCourses          object\n",
       "LearningPlatformUsefulnessProjects         object\n",
       "LearningPlatformUsefulnessSO               object\n",
       "LearningPlatformUsefulnessTextbook         object\n",
       "LearningPlatformUsefulnessYouTube          object\n",
       "DataScienceIdentitySelect                  object\n",
       "FormalEducation                            object\n",
       "MajorSelect                                object\n",
       "Tenure                                     object\n",
       "PastJobTitlesSelect                        object\n",
       "MLSkillsSelect                             object\n",
       "MLTechniquesSelect                         object\n",
       "EmployerIndustry                           object\n",
       "EmployerSize                               object\n",
       "WorkProductionFrequency                    object\n",
       "WorkAlgorithmsSelect                       object\n",
       "WorkToolsFrequencyPython                   object\n",
       "WorkToolsFrequencyR                        object\n",
       "WorkToolsFrequencySQL                      object\n",
       "WorkMethodsFrequencyCross-Validation       object\n",
       "WorkMethodsFrequencyDataVisualization      object\n",
       "WorkMethodsFrequencyDecisionTrees          object\n",
       "WorkMethodsFrequencyLogisticRegression     object\n",
       "WorkMethodsFrequencyNeuralNetworks         object\n",
       "WorkMethodsFrequencyPCA                    object\n",
       "WorkMethodsFrequencyRandomForests          object\n",
       "WorkMethodsFrequencyTimeSeriesAnalysis     object\n",
       "WorkChallengeFrequencyPolitics             object\n",
       "WorkChallengeFrequencyUnusedResults        object\n",
       "WorkChallengeFrequencyDirtyData            object\n",
       "WorkChallengeFrequencyExplaining           object\n",
       "WorkChallengeFrequencyTalent               object\n",
       "WorkChallengeFrequencyClarity              object\n",
       "WorkChallengeFrequencyDataAccess           object\n",
       "CompensationScore                         float64\n",
       "WorkDataVisualizations                     object\n",
       "WorkInternalVsExternalTools                object\n",
       "WorkMLTeamSeatSelect                       object\n",
       "RemoteWork                                 object\n",
       "JobSatisfaction                             int64\n",
       "dtype: object"
      ]
     },
     "metadata": {},
     "execution_count": 628
    }
   ],
   "source": [
    "df_train.dtypes"
   ]
  },
  {
   "cell_type": "code",
   "execution_count": 629,
   "metadata": {},
   "outputs": [],
   "source": [
    "df_train = df_train[~df_train.JobSatisfaction.isnull()].copy() #dropping Na values of label\n"
   ]
  },
  {
   "cell_type": "code",
   "execution_count": 630,
   "metadata": {},
   "outputs": [],
   "source": [
    "df_train = df_train.drop(columns=['CodeWriter'])\n",
    "df_test = df_test.drop(columns=['CodeWriter'])\n"
   ]
  },
  {
   "cell_type": "code",
   "execution_count": 631,
   "metadata": {},
   "outputs": [],
   "source": [
    "df_train = df_train.apply(lambda x: x.fillna(x.mean()) if x.dtype.kind in 'biufc' else x.fillna(x.mode()[0]))\n",
    "df_test = df_test.apply(lambda x: x.fillna(x.mean()) if x.dtype.kind in 'biufc' else x.fillna(x.mode()[0]))"
   ]
  },
  {
   "cell_type": "code",
   "execution_count": 632,
   "metadata": {},
   "outputs": [
    {
     "output_type": "execute_result",
     "data": {
      "text/plain": [
       "ID                                        0\n",
       "GenderSelect                              0\n",
       "Country                                   0\n",
       "Age                                       0\n",
       "EmploymentStatus                          0\n",
       "CurrentJobTitleSelect                     0\n",
       "TitleFit                                  0\n",
       "CurrentEmployerType                       0\n",
       "MLToolNextYearSelect                      0\n",
       "MLMethodNextYearSelect                    0\n",
       "LanguageRecommendationSelect              0\n",
       "LearningPlatformUsefulnessBlogs           0\n",
       "LearningPlatformUsefulnessKaggle          0\n",
       "LearningPlatformUsefulnessCourses         0\n",
       "LearningPlatformUsefulnessProjects        0\n",
       "LearningPlatformUsefulnessSO              0\n",
       "LearningPlatformUsefulnessTextbook        0\n",
       "LearningPlatformUsefulnessYouTube         0\n",
       "DataScienceIdentitySelect                 0\n",
       "FormalEducation                           0\n",
       "MajorSelect                               0\n",
       "Tenure                                    0\n",
       "PastJobTitlesSelect                       0\n",
       "MLSkillsSelect                            0\n",
       "MLTechniquesSelect                        0\n",
       "EmployerIndustry                          0\n",
       "EmployerSize                              0\n",
       "WorkProductionFrequency                   0\n",
       "WorkAlgorithmsSelect                      0\n",
       "WorkToolsFrequencyPython                  0\n",
       "WorkToolsFrequencyR                       0\n",
       "WorkToolsFrequencySQL                     0\n",
       "WorkMethodsFrequencyCross-Validation      0\n",
       "WorkMethodsFrequencyDataVisualization     0\n",
       "WorkMethodsFrequencyDecisionTrees         0\n",
       "WorkMethodsFrequencyLogisticRegression    0\n",
       "WorkMethodsFrequencyNeuralNetworks        0\n",
       "WorkMethodsFrequencyPCA                   0\n",
       "WorkMethodsFrequencyRandomForests         0\n",
       "WorkMethodsFrequencyTimeSeriesAnalysis    0\n",
       "WorkChallengeFrequencyPolitics            0\n",
       "WorkChallengeFrequencyUnusedResults       0\n",
       "WorkChallengeFrequencyDirtyData           0\n",
       "WorkChallengeFrequencyExplaining          0\n",
       "WorkChallengeFrequencyTalent              0\n",
       "WorkChallengeFrequencyClarity             0\n",
       "WorkChallengeFrequencyDataAccess          0\n",
       "CompensationScore                         0\n",
       "WorkDataVisualizations                    0\n",
       "WorkInternalVsExternalTools               0\n",
       "WorkMLTeamSeatSelect                      0\n",
       "RemoteWork                                0\n",
       "JobSatisfaction                           0\n",
       "dtype: int64"
      ]
     },
     "metadata": {},
     "execution_count": 632
    }
   ],
   "source": [
    "df_train.isna().sum()"
   ]
  },
  {
   "source": [
    "sns.boxplot(x=df_train['Age'])"
   ],
   "cell_type": "code",
   "metadata": {},
   "execution_count": 633,
   "outputs": [
    {
     "output_type": "execute_result",
     "data": {
      "text/plain": [
       "<AxesSubplot:xlabel='Age'>"
      ]
     },
     "metadata": {},
     "execution_count": 633
    },
    {
     "output_type": "display_data",
     "data": {
      "text/plain": "<Figure size 432x288 with 1 Axes>",
      "image/svg+xml": "<?xml version=\"1.0\" encoding=\"utf-8\" standalone=\"no\"?>\r\n<!DOCTYPE svg PUBLIC \"-//W3C//DTD SVG 1.1//EN\"\r\n  \"http://www.w3.org/Graphics/SVG/1.1/DTD/svg11.dtd\">\r\n<!-- Created with matplotlib (https://matplotlib.org/) -->\r\n<svg height=\"262.19625pt\" version=\"1.1\" viewBox=\"0 0 352.7 262.19625\" width=\"352.7pt\" xmlns=\"http://www.w3.org/2000/svg\" xmlns:xlink=\"http://www.w3.org/1999/xlink\">\r\n <metadata>\r\n  <rdf:RDF xmlns:cc=\"http://creativecommons.org/ns#\" xmlns:dc=\"http://purl.org/dc/elements/1.1/\" xmlns:rdf=\"http://www.w3.org/1999/02/22-rdf-syntax-ns#\">\r\n   <cc:Work>\r\n    <dc:type rdf:resource=\"http://purl.org/dc/dcmitype/StillImage\"/>\r\n    <dc:date>2021-01-03T22:46:42.242134</dc:date>\r\n    <dc:format>image/svg+xml</dc:format>\r\n    <dc:creator>\r\n     <cc:Agent>\r\n      <dc:title>Matplotlib v3.3.3, https://matplotlib.org/</dc:title>\r\n     </cc:Agent>\r\n    </dc:creator>\r\n   </cc:Work>\r\n  </rdf:RDF>\r\n </metadata>\r\n <defs>\r\n  <style type=\"text/css\">*{stroke-linecap:butt;stroke-linejoin:round;}</style>\r\n </defs>\r\n <g id=\"figure_1\">\r\n  <g id=\"patch_1\">\r\n   <path d=\"M 0 262.19625 \r\nL 352.7 262.19625 \r\nL 352.7 0 \r\nL 0 0 \r\nz\r\n\" style=\"fill:none;\"/>\r\n  </g>\r\n  <g id=\"axes_1\">\r\n   <g id=\"patch_2\">\r\n    <path d=\"M 10.7 224.64 \r\nL 345.5 224.64 \r\nL 345.5 7.2 \r\nL 10.7 7.2 \r\nz\r\n\" style=\"fill:#ffffff;\"/>\r\n   </g>\r\n   <g id=\"patch_3\">\r\n    <path clip-path=\"url(#p58dd20751c)\" d=\"M 108.096364 28.944 \r\nL 108.096364 202.896 \r\nL 144.62 202.896 \r\nL 144.62 28.944 \r\nL 108.096364 28.944 \r\nz\r\n\" style=\"fill:#3274a1;stroke:#3f3f3f;stroke-linejoin:miter;stroke-width:1.5;\"/>\r\n   </g>\r\n   <g id=\"matplotlib.axis_1\">\r\n    <g id=\"xtick_1\">\r\n     <g id=\"line2d_1\">\r\n      <defs>\r\n       <path d=\"M 0 0 \r\nL 0 3.5 \r\n\" id=\"ma39f650c25\" style=\"stroke:#000000;stroke-width:0.8;\"/>\r\n      </defs>\r\n      <g>\r\n       <use style=\"stroke:#000000;stroke-width:0.8;\" x=\"25.918182\" xlink:href=\"#ma39f650c25\" y=\"224.64\"/>\r\n      </g>\r\n     </g>\r\n     <g id=\"text_1\">\r\n      <!-- 0 -->\r\n      <g transform=\"translate(22.736932 239.238437)scale(0.1 -0.1)\">\r\n       <defs>\r\n        <path d=\"M 31.78125 66.40625 \r\nQ 24.171875 66.40625 20.328125 58.90625 \r\nQ 16.5 51.421875 16.5 36.375 \r\nQ 16.5 21.390625 20.328125 13.890625 \r\nQ 24.171875 6.390625 31.78125 6.390625 \r\nQ 39.453125 6.390625 43.28125 13.890625 \r\nQ 47.125 21.390625 47.125 36.375 \r\nQ 47.125 51.421875 43.28125 58.90625 \r\nQ 39.453125 66.40625 31.78125 66.40625 \r\nz\r\nM 31.78125 74.21875 \r\nQ 44.046875 74.21875 50.515625 64.515625 \r\nQ 56.984375 54.828125 56.984375 36.375 \r\nQ 56.984375 17.96875 50.515625 8.265625 \r\nQ 44.046875 -1.421875 31.78125 -1.421875 \r\nQ 19.53125 -1.421875 13.0625 8.265625 \r\nQ 6.59375 17.96875 6.59375 36.375 \r\nQ 6.59375 54.828125 13.0625 64.515625 \r\nQ 19.53125 74.21875 31.78125 74.21875 \r\nz\r\n\" id=\"DejaVuSans-48\"/>\r\n       </defs>\r\n       <use xlink:href=\"#DejaVuSans-48\"/>\r\n      </g>\r\n     </g>\r\n    </g>\r\n    <g id=\"xtick_2\">\r\n     <g id=\"line2d_2\">\r\n      <g>\r\n       <use style=\"stroke:#000000;stroke-width:0.8;\" x=\"86.790909\" xlink:href=\"#ma39f650c25\" y=\"224.64\"/>\r\n      </g>\r\n     </g>\r\n     <g id=\"text_2\">\r\n      <!-- 20 -->\r\n      <g transform=\"translate(80.428409 239.238437)scale(0.1 -0.1)\">\r\n       <defs>\r\n        <path d=\"M 19.1875 8.296875 \r\nL 53.609375 8.296875 \r\nL 53.609375 0 \r\nL 7.328125 0 \r\nL 7.328125 8.296875 \r\nQ 12.9375 14.109375 22.625 23.890625 \r\nQ 32.328125 33.6875 34.8125 36.53125 \r\nQ 39.546875 41.84375 41.421875 45.53125 \r\nQ 43.3125 49.21875 43.3125 52.78125 \r\nQ 43.3125 58.59375 39.234375 62.25 \r\nQ 35.15625 65.921875 28.609375 65.921875 \r\nQ 23.96875 65.921875 18.8125 64.3125 \r\nQ 13.671875 62.703125 7.8125 59.421875 \r\nL 7.8125 69.390625 \r\nQ 13.765625 71.78125 18.9375 73 \r\nQ 24.125 74.21875 28.421875 74.21875 \r\nQ 39.75 74.21875 46.484375 68.546875 \r\nQ 53.21875 62.890625 53.21875 53.421875 \r\nQ 53.21875 48.921875 51.53125 44.890625 \r\nQ 49.859375 40.875 45.40625 35.40625 \r\nQ 44.1875 33.984375 37.640625 27.21875 \r\nQ 31.109375 20.453125 19.1875 8.296875 \r\nz\r\n\" id=\"DejaVuSans-50\"/>\r\n       </defs>\r\n       <use xlink:href=\"#DejaVuSans-50\"/>\r\n       <use x=\"63.623047\" xlink:href=\"#DejaVuSans-48\"/>\r\n      </g>\r\n     </g>\r\n    </g>\r\n    <g id=\"xtick_3\">\r\n     <g id=\"line2d_3\">\r\n      <g>\r\n       <use style=\"stroke:#000000;stroke-width:0.8;\" x=\"147.663636\" xlink:href=\"#ma39f650c25\" y=\"224.64\"/>\r\n      </g>\r\n     </g>\r\n     <g id=\"text_3\">\r\n      <!-- 40 -->\r\n      <g transform=\"translate(141.301136 239.238437)scale(0.1 -0.1)\">\r\n       <defs>\r\n        <path d=\"M 37.796875 64.3125 \r\nL 12.890625 25.390625 \r\nL 37.796875 25.390625 \r\nz\r\nM 35.203125 72.90625 \r\nL 47.609375 72.90625 \r\nL 47.609375 25.390625 \r\nL 58.015625 25.390625 \r\nL 58.015625 17.1875 \r\nL 47.609375 17.1875 \r\nL 47.609375 0 \r\nL 37.796875 0 \r\nL 37.796875 17.1875 \r\nL 4.890625 17.1875 \r\nL 4.890625 26.703125 \r\nz\r\n\" id=\"DejaVuSans-52\"/>\r\n       </defs>\r\n       <use xlink:href=\"#DejaVuSans-52\"/>\r\n       <use x=\"63.623047\" xlink:href=\"#DejaVuSans-48\"/>\r\n      </g>\r\n     </g>\r\n    </g>\r\n    <g id=\"xtick_4\">\r\n     <g id=\"line2d_4\">\r\n      <g>\r\n       <use style=\"stroke:#000000;stroke-width:0.8;\" x=\"208.536364\" xlink:href=\"#ma39f650c25\" y=\"224.64\"/>\r\n      </g>\r\n     </g>\r\n     <g id=\"text_4\">\r\n      <!-- 60 -->\r\n      <g transform=\"translate(202.173864 239.238437)scale(0.1 -0.1)\">\r\n       <defs>\r\n        <path d=\"M 33.015625 40.375 \r\nQ 26.375 40.375 22.484375 35.828125 \r\nQ 18.609375 31.296875 18.609375 23.390625 \r\nQ 18.609375 15.53125 22.484375 10.953125 \r\nQ 26.375 6.390625 33.015625 6.390625 \r\nQ 39.65625 6.390625 43.53125 10.953125 \r\nQ 47.40625 15.53125 47.40625 23.390625 \r\nQ 47.40625 31.296875 43.53125 35.828125 \r\nQ 39.65625 40.375 33.015625 40.375 \r\nz\r\nM 52.59375 71.296875 \r\nL 52.59375 62.3125 \r\nQ 48.875 64.0625 45.09375 64.984375 \r\nQ 41.3125 65.921875 37.59375 65.921875 \r\nQ 27.828125 65.921875 22.671875 59.328125 \r\nQ 17.53125 52.734375 16.796875 39.40625 \r\nQ 19.671875 43.65625 24.015625 45.921875 \r\nQ 28.375 48.1875 33.59375 48.1875 \r\nQ 44.578125 48.1875 50.953125 41.515625 \r\nQ 57.328125 34.859375 57.328125 23.390625 \r\nQ 57.328125 12.15625 50.6875 5.359375 \r\nQ 44.046875 -1.421875 33.015625 -1.421875 \r\nQ 20.359375 -1.421875 13.671875 8.265625 \r\nQ 6.984375 17.96875 6.984375 36.375 \r\nQ 6.984375 53.65625 15.1875 63.9375 \r\nQ 23.390625 74.21875 37.203125 74.21875 \r\nQ 40.921875 74.21875 44.703125 73.484375 \r\nQ 48.484375 72.75 52.59375 71.296875 \r\nz\r\n\" id=\"DejaVuSans-54\"/>\r\n       </defs>\r\n       <use xlink:href=\"#DejaVuSans-54\"/>\r\n       <use x=\"63.623047\" xlink:href=\"#DejaVuSans-48\"/>\r\n      </g>\r\n     </g>\r\n    </g>\r\n    <g id=\"xtick_5\">\r\n     <g id=\"line2d_5\">\r\n      <g>\r\n       <use style=\"stroke:#000000;stroke-width:0.8;\" x=\"269.409091\" xlink:href=\"#ma39f650c25\" y=\"224.64\"/>\r\n      </g>\r\n     </g>\r\n     <g id=\"text_5\">\r\n      <!-- 80 -->\r\n      <g transform=\"translate(263.046591 239.238437)scale(0.1 -0.1)\">\r\n       <defs>\r\n        <path d=\"M 31.78125 34.625 \r\nQ 24.75 34.625 20.71875 30.859375 \r\nQ 16.703125 27.09375 16.703125 20.515625 \r\nQ 16.703125 13.921875 20.71875 10.15625 \r\nQ 24.75 6.390625 31.78125 6.390625 \r\nQ 38.8125 6.390625 42.859375 10.171875 \r\nQ 46.921875 13.96875 46.921875 20.515625 \r\nQ 46.921875 27.09375 42.890625 30.859375 \r\nQ 38.875 34.625 31.78125 34.625 \r\nz\r\nM 21.921875 38.8125 \r\nQ 15.578125 40.375 12.03125 44.71875 \r\nQ 8.5 49.078125 8.5 55.328125 \r\nQ 8.5 64.0625 14.71875 69.140625 \r\nQ 20.953125 74.21875 31.78125 74.21875 \r\nQ 42.671875 74.21875 48.875 69.140625 \r\nQ 55.078125 64.0625 55.078125 55.328125 \r\nQ 55.078125 49.078125 51.53125 44.71875 \r\nQ 48 40.375 41.703125 38.8125 \r\nQ 48.828125 37.15625 52.796875 32.3125 \r\nQ 56.78125 27.484375 56.78125 20.515625 \r\nQ 56.78125 9.90625 50.3125 4.234375 \r\nQ 43.84375 -1.421875 31.78125 -1.421875 \r\nQ 19.734375 -1.421875 13.25 4.234375 \r\nQ 6.78125 9.90625 6.78125 20.515625 \r\nQ 6.78125 27.484375 10.78125 32.3125 \r\nQ 14.796875 37.15625 21.921875 38.8125 \r\nz\r\nM 18.3125 54.390625 \r\nQ 18.3125 48.734375 21.84375 45.5625 \r\nQ 25.390625 42.390625 31.78125 42.390625 \r\nQ 38.140625 42.390625 41.71875 45.5625 \r\nQ 45.3125 48.734375 45.3125 54.390625 \r\nQ 45.3125 60.0625 41.71875 63.234375 \r\nQ 38.140625 66.40625 31.78125 66.40625 \r\nQ 25.390625 66.40625 21.84375 63.234375 \r\nQ 18.3125 60.0625 18.3125 54.390625 \r\nz\r\n\" id=\"DejaVuSans-56\"/>\r\n       </defs>\r\n       <use xlink:href=\"#DejaVuSans-56\"/>\r\n       <use x=\"63.623047\" xlink:href=\"#DejaVuSans-48\"/>\r\n      </g>\r\n     </g>\r\n    </g>\r\n    <g id=\"xtick_6\">\r\n     <g id=\"line2d_6\">\r\n      <g>\r\n       <use style=\"stroke:#000000;stroke-width:0.8;\" x=\"330.281818\" xlink:href=\"#ma39f650c25\" y=\"224.64\"/>\r\n      </g>\r\n     </g>\r\n     <g id=\"text_6\">\r\n      <!-- 100 -->\r\n      <g transform=\"translate(320.738068 239.238437)scale(0.1 -0.1)\">\r\n       <defs>\r\n        <path d=\"M 12.40625 8.296875 \r\nL 28.515625 8.296875 \r\nL 28.515625 63.921875 \r\nL 10.984375 60.40625 \r\nL 10.984375 69.390625 \r\nL 28.421875 72.90625 \r\nL 38.28125 72.90625 \r\nL 38.28125 8.296875 \r\nL 54.390625 8.296875 \r\nL 54.390625 0 \r\nL 12.40625 0 \r\nz\r\n\" id=\"DejaVuSans-49\"/>\r\n       </defs>\r\n       <use xlink:href=\"#DejaVuSans-49\"/>\r\n       <use x=\"63.623047\" xlink:href=\"#DejaVuSans-48\"/>\r\n       <use x=\"127.246094\" xlink:href=\"#DejaVuSans-48\"/>\r\n      </g>\r\n     </g>\r\n    </g>\r\n    <g id=\"text_7\">\r\n     <!-- Age -->\r\n     <g transform=\"translate(168.428906 252.916562)scale(0.1 -0.1)\">\r\n      <defs>\r\n       <path d=\"M 34.1875 63.1875 \r\nL 20.796875 26.90625 \r\nL 47.609375 26.90625 \r\nz\r\nM 28.609375 72.90625 \r\nL 39.796875 72.90625 \r\nL 67.578125 0 \r\nL 57.328125 0 \r\nL 50.6875 18.703125 \r\nL 17.828125 18.703125 \r\nL 11.1875 0 \r\nL 0.78125 0 \r\nz\r\n\" id=\"DejaVuSans-65\"/>\r\n       <path d=\"M 45.40625 27.984375 \r\nQ 45.40625 37.75 41.375 43.109375 \r\nQ 37.359375 48.484375 30.078125 48.484375 \r\nQ 22.859375 48.484375 18.828125 43.109375 \r\nQ 14.796875 37.75 14.796875 27.984375 \r\nQ 14.796875 18.265625 18.828125 12.890625 \r\nQ 22.859375 7.515625 30.078125 7.515625 \r\nQ 37.359375 7.515625 41.375 12.890625 \r\nQ 45.40625 18.265625 45.40625 27.984375 \r\nz\r\nM 54.390625 6.78125 \r\nQ 54.390625 -7.171875 48.1875 -13.984375 \r\nQ 42 -20.796875 29.203125 -20.796875 \r\nQ 24.46875 -20.796875 20.265625 -20.09375 \r\nQ 16.0625 -19.390625 12.109375 -17.921875 \r\nL 12.109375 -9.1875 \r\nQ 16.0625 -11.328125 19.921875 -12.34375 \r\nQ 23.78125 -13.375 27.78125 -13.375 \r\nQ 36.625 -13.375 41.015625 -8.765625 \r\nQ 45.40625 -4.15625 45.40625 5.171875 \r\nL 45.40625 9.625 \r\nQ 42.625 4.78125 38.28125 2.390625 \r\nQ 33.9375 0 27.875 0 \r\nQ 17.828125 0 11.671875 7.65625 \r\nQ 5.515625 15.328125 5.515625 27.984375 \r\nQ 5.515625 40.671875 11.671875 48.328125 \r\nQ 17.828125 56 27.875 56 \r\nQ 33.9375 56 38.28125 53.609375 \r\nQ 42.625 51.21875 45.40625 46.390625 \r\nL 45.40625 54.6875 \r\nL 54.390625 54.6875 \r\nz\r\n\" id=\"DejaVuSans-103\"/>\r\n       <path d=\"M 56.203125 29.59375 \r\nL 56.203125 25.203125 \r\nL 14.890625 25.203125 \r\nQ 15.484375 15.921875 20.484375 11.0625 \r\nQ 25.484375 6.203125 34.421875 6.203125 \r\nQ 39.59375 6.203125 44.453125 7.46875 \r\nQ 49.3125 8.734375 54.109375 11.28125 \r\nL 54.109375 2.78125 \r\nQ 49.265625 0.734375 44.1875 -0.34375 \r\nQ 39.109375 -1.421875 33.890625 -1.421875 \r\nQ 20.796875 -1.421875 13.15625 6.1875 \r\nQ 5.515625 13.8125 5.515625 26.8125 \r\nQ 5.515625 40.234375 12.765625 48.109375 \r\nQ 20.015625 56 32.328125 56 \r\nQ 43.359375 56 49.78125 48.890625 \r\nQ 56.203125 41.796875 56.203125 29.59375 \r\nz\r\nM 47.21875 32.234375 \r\nQ 47.125 39.59375 43.09375 43.984375 \r\nQ 39.0625 48.390625 32.421875 48.390625 \r\nQ 24.90625 48.390625 20.390625 44.140625 \r\nQ 15.875 39.890625 15.1875 32.171875 \r\nz\r\n\" id=\"DejaVuSans-101\"/>\r\n      </defs>\r\n      <use xlink:href=\"#DejaVuSans-65\"/>\r\n      <use x=\"68.408203\" xlink:href=\"#DejaVuSans-103\"/>\r\n      <use x=\"131.884766\" xlink:href=\"#DejaVuSans-101\"/>\r\n     </g>\r\n    </g>\r\n   </g>\r\n   <g id=\"matplotlib.axis_2\">\r\n    <g id=\"ytick_1\">\r\n     <g id=\"line2d_7\">\r\n      <defs>\r\n       <path d=\"M 0 0 \r\nL -3.5 0 \r\n\" id=\"m88889a8a0f\" style=\"stroke:#000000;stroke-width:0.8;\"/>\r\n      </defs>\r\n      <g>\r\n       <use style=\"stroke:#000000;stroke-width:0.8;\" x=\"10.7\" xlink:href=\"#m88889a8a0f\" y=\"115.92\"/>\r\n      </g>\r\n     </g>\r\n    </g>\r\n   </g>\r\n   <g id=\"line2d_8\">\r\n    <path clip-path=\"url(#p58dd20751c)\" d=\"M 108.096364 115.92 \r\nL 68.529091 115.92 \r\n\" style=\"fill:none;stroke:#3f3f3f;stroke-linecap:square;stroke-width:1.5;\"/>\r\n   </g>\r\n   <g id=\"line2d_9\">\r\n    <path clip-path=\"url(#p58dd20751c)\" d=\"M 144.62 115.92 \r\nL 199.405455 115.92 \r\n\" style=\"fill:none;stroke:#3f3f3f;stroke-linecap:square;stroke-width:1.5;\"/>\r\n   </g>\r\n   <g id=\"line2d_10\">\r\n    <path clip-path=\"url(#p58dd20751c)\" d=\"M 68.529091 72.432 \r\nL 68.529091 159.408 \r\n\" style=\"fill:none;stroke:#3f3f3f;stroke-linecap:square;stroke-width:1.5;\"/>\r\n   </g>\r\n   <g id=\"line2d_11\">\r\n    <path clip-path=\"url(#p58dd20751c)\" d=\"M 199.405455 72.432 \r\nL 199.405455 159.408 \r\n\" style=\"fill:none;stroke:#3f3f3f;stroke-linecap:square;stroke-width:1.5;\"/>\r\n   </g>\r\n   <g id=\"line2d_12\">\r\n    <defs>\r\n     <path d=\"M -0 3.535534 \r\nL 2.12132 0 \r\nL -0 -3.535534 \r\nL -2.12132 -0 \r\nz\r\n\" id=\"m56e84d7aa5\" style=\"stroke:#3f3f3f;stroke-linejoin:miter;\"/>\r\n    </defs>\r\n    <g clip-path=\"url(#p58dd20751c)\">\r\n     <use style=\"fill:#3f3f3f;stroke:#3f3f3f;stroke-linejoin:miter;\" x=\"25.918182\" xlink:href=\"#m56e84d7aa5\" y=\"115.92\"/>\r\n     <use style=\"fill:#3f3f3f;stroke:#3f3f3f;stroke-linejoin:miter;\" x=\"28.961818\" xlink:href=\"#m56e84d7aa5\" y=\"115.92\"/>\r\n     <use style=\"fill:#3f3f3f;stroke:#3f3f3f;stroke-linejoin:miter;\" x=\"232.885455\" xlink:href=\"#m56e84d7aa5\" y=\"115.92\"/>\r\n     <use style=\"fill:#3f3f3f;stroke:#3f3f3f;stroke-linejoin:miter;\" x=\"217.667273\" xlink:href=\"#m56e84d7aa5\" y=\"115.92\"/>\r\n     <use style=\"fill:#3f3f3f;stroke:#3f3f3f;stroke-linejoin:miter;\" x=\"214.623636\" xlink:href=\"#m56e84d7aa5\" y=\"115.92\"/>\r\n     <use style=\"fill:#3f3f3f;stroke:#3f3f3f;stroke-linejoin:miter;\" x=\"217.667273\" xlink:href=\"#m56e84d7aa5\" y=\"115.92\"/>\r\n     <use style=\"fill:#3f3f3f;stroke:#3f3f3f;stroke-linejoin:miter;\" x=\"232.885455\" xlink:href=\"#m56e84d7aa5\" y=\"115.92\"/>\r\n     <use style=\"fill:#3f3f3f;stroke:#3f3f3f;stroke-linejoin:miter;\" x=\"211.58\" xlink:href=\"#m56e84d7aa5\" y=\"115.92\"/>\r\n     <use style=\"fill:#3f3f3f;stroke:#3f3f3f;stroke-linejoin:miter;\" x=\"202.449091\" xlink:href=\"#m56e84d7aa5\" y=\"115.92\"/>\r\n     <use style=\"fill:#3f3f3f;stroke:#3f3f3f;stroke-linejoin:miter;\" x=\"211.58\" xlink:href=\"#m56e84d7aa5\" y=\"115.92\"/>\r\n     <use style=\"fill:#3f3f3f;stroke:#3f3f3f;stroke-linejoin:miter;\" x=\"205.492727\" xlink:href=\"#m56e84d7aa5\" y=\"115.92\"/>\r\n     <use style=\"fill:#3f3f3f;stroke:#3f3f3f;stroke-linejoin:miter;\" x=\"220.710909\" xlink:href=\"#m56e84d7aa5\" y=\"115.92\"/>\r\n     <use style=\"fill:#3f3f3f;stroke:#3f3f3f;stroke-linejoin:miter;\" x=\"217.667273\" xlink:href=\"#m56e84d7aa5\" y=\"115.92\"/>\r\n     <use style=\"fill:#3f3f3f;stroke:#3f3f3f;stroke-linejoin:miter;\" x=\"208.536364\" xlink:href=\"#m56e84d7aa5\" y=\"115.92\"/>\r\n     <use style=\"fill:#3f3f3f;stroke:#3f3f3f;stroke-linejoin:miter;\" x=\"214.623636\" xlink:href=\"#m56e84d7aa5\" y=\"115.92\"/>\r\n     <use style=\"fill:#3f3f3f;stroke:#3f3f3f;stroke-linejoin:miter;\" x=\"214.623636\" xlink:href=\"#m56e84d7aa5\" y=\"115.92\"/>\r\n     <use style=\"fill:#3f3f3f;stroke:#3f3f3f;stroke-linejoin:miter;\" x=\"245.06\" xlink:href=\"#m56e84d7aa5\" y=\"115.92\"/>\r\n     <use style=\"fill:#3f3f3f;stroke:#3f3f3f;stroke-linejoin:miter;\" x=\"254.190909\" xlink:href=\"#m56e84d7aa5\" y=\"115.92\"/>\r\n     <use style=\"fill:#3f3f3f;stroke:#3f3f3f;stroke-linejoin:miter;\" x=\"217.667273\" xlink:href=\"#m56e84d7aa5\" y=\"115.92\"/>\r\n     <use style=\"fill:#3f3f3f;stroke:#3f3f3f;stroke-linejoin:miter;\" x=\"263.321818\" xlink:href=\"#m56e84d7aa5\" y=\"115.92\"/>\r\n     <use style=\"fill:#3f3f3f;stroke:#3f3f3f;stroke-linejoin:miter;\" x=\"202.449091\" xlink:href=\"#m56e84d7aa5\" y=\"115.92\"/>\r\n     <use style=\"fill:#3f3f3f;stroke:#3f3f3f;stroke-linejoin:miter;\" x=\"214.623636\" xlink:href=\"#m56e84d7aa5\" y=\"115.92\"/>\r\n     <use style=\"fill:#3f3f3f;stroke:#3f3f3f;stroke-linejoin:miter;\" x=\"223.754545\" xlink:href=\"#m56e84d7aa5\" y=\"115.92\"/>\r\n     <use style=\"fill:#3f3f3f;stroke:#3f3f3f;stroke-linejoin:miter;\" x=\"214.623636\" xlink:href=\"#m56e84d7aa5\" y=\"115.92\"/>\r\n     <use style=\"fill:#3f3f3f;stroke:#3f3f3f;stroke-linejoin:miter;\" x=\"229.841818\" xlink:href=\"#m56e84d7aa5\" y=\"115.92\"/>\r\n     <use style=\"fill:#3f3f3f;stroke:#3f3f3f;stroke-linejoin:miter;\" x=\"205.492727\" xlink:href=\"#m56e84d7aa5\" y=\"115.92\"/>\r\n     <use style=\"fill:#3f3f3f;stroke:#3f3f3f;stroke-linejoin:miter;\" x=\"211.58\" xlink:href=\"#m56e84d7aa5\" y=\"115.92\"/>\r\n     <use style=\"fill:#3f3f3f;stroke:#3f3f3f;stroke-linejoin:miter;\" x=\"211.58\" xlink:href=\"#m56e84d7aa5\" y=\"115.92\"/>\r\n     <use style=\"fill:#3f3f3f;stroke:#3f3f3f;stroke-linejoin:miter;\" x=\"217.667273\" xlink:href=\"#m56e84d7aa5\" y=\"115.92\"/>\r\n     <use style=\"fill:#3f3f3f;stroke:#3f3f3f;stroke-linejoin:miter;\" x=\"211.58\" xlink:href=\"#m56e84d7aa5\" y=\"115.92\"/>\r\n     <use style=\"fill:#3f3f3f;stroke:#3f3f3f;stroke-linejoin:miter;\" x=\"223.754545\" xlink:href=\"#m56e84d7aa5\" y=\"115.92\"/>\r\n     <use style=\"fill:#3f3f3f;stroke:#3f3f3f;stroke-linejoin:miter;\" x=\"202.449091\" xlink:href=\"#m56e84d7aa5\" y=\"115.92\"/>\r\n     <use style=\"fill:#3f3f3f;stroke:#3f3f3f;stroke-linejoin:miter;\" x=\"211.58\" xlink:href=\"#m56e84d7aa5\" y=\"115.92\"/>\r\n     <use style=\"fill:#3f3f3f;stroke:#3f3f3f;stroke-linejoin:miter;\" x=\"202.449091\" xlink:href=\"#m56e84d7aa5\" y=\"115.92\"/>\r\n     <use style=\"fill:#3f3f3f;stroke:#3f3f3f;stroke-linejoin:miter;\" x=\"208.536364\" xlink:href=\"#m56e84d7aa5\" y=\"115.92\"/>\r\n     <use style=\"fill:#3f3f3f;stroke:#3f3f3f;stroke-linejoin:miter;\" x=\"220.710909\" xlink:href=\"#m56e84d7aa5\" y=\"115.92\"/>\r\n     <use style=\"fill:#3f3f3f;stroke:#3f3f3f;stroke-linejoin:miter;\" x=\"208.536364\" xlink:href=\"#m56e84d7aa5\" y=\"115.92\"/>\r\n     <use style=\"fill:#3f3f3f;stroke:#3f3f3f;stroke-linejoin:miter;\" x=\"208.536364\" xlink:href=\"#m56e84d7aa5\" y=\"115.92\"/>\r\n     <use style=\"fill:#3f3f3f;stroke:#3f3f3f;stroke-linejoin:miter;\" x=\"208.536364\" xlink:href=\"#m56e84d7aa5\" y=\"115.92\"/>\r\n     <use style=\"fill:#3f3f3f;stroke:#3f3f3f;stroke-linejoin:miter;\" x=\"217.667273\" xlink:href=\"#m56e84d7aa5\" y=\"115.92\"/>\r\n     <use style=\"fill:#3f3f3f;stroke:#3f3f3f;stroke-linejoin:miter;\" x=\"226.798182\" xlink:href=\"#m56e84d7aa5\" y=\"115.92\"/>\r\n     <use style=\"fill:#3f3f3f;stroke:#3f3f3f;stroke-linejoin:miter;\" x=\"205.492727\" xlink:href=\"#m56e84d7aa5\" y=\"115.92\"/>\r\n     <use style=\"fill:#3f3f3f;stroke:#3f3f3f;stroke-linejoin:miter;\" x=\"208.536364\" xlink:href=\"#m56e84d7aa5\" y=\"115.92\"/>\r\n     <use style=\"fill:#3f3f3f;stroke:#3f3f3f;stroke-linejoin:miter;\" x=\"202.449091\" xlink:href=\"#m56e84d7aa5\" y=\"115.92\"/>\r\n     <use style=\"fill:#3f3f3f;stroke:#3f3f3f;stroke-linejoin:miter;\" x=\"208.536364\" xlink:href=\"#m56e84d7aa5\" y=\"115.92\"/>\r\n     <use style=\"fill:#3f3f3f;stroke:#3f3f3f;stroke-linejoin:miter;\" x=\"217.667273\" xlink:href=\"#m56e84d7aa5\" y=\"115.92\"/>\r\n     <use style=\"fill:#3f3f3f;stroke:#3f3f3f;stroke-linejoin:miter;\" x=\"217.667273\" xlink:href=\"#m56e84d7aa5\" y=\"115.92\"/>\r\n     <use style=\"fill:#3f3f3f;stroke:#3f3f3f;stroke-linejoin:miter;\" x=\"217.667273\" xlink:href=\"#m56e84d7aa5\" y=\"115.92\"/>\r\n     <use style=\"fill:#3f3f3f;stroke:#3f3f3f;stroke-linejoin:miter;\" x=\"330.281818\" xlink:href=\"#m56e84d7aa5\" y=\"115.92\"/>\r\n     <use style=\"fill:#3f3f3f;stroke:#3f3f3f;stroke-linejoin:miter;\" x=\"238.972727\" xlink:href=\"#m56e84d7aa5\" y=\"115.92\"/>\r\n     <use style=\"fill:#3f3f3f;stroke:#3f3f3f;stroke-linejoin:miter;\" x=\"223.754545\" xlink:href=\"#m56e84d7aa5\" y=\"115.92\"/>\r\n     <use style=\"fill:#3f3f3f;stroke:#3f3f3f;stroke-linejoin:miter;\" x=\"223.754545\" xlink:href=\"#m56e84d7aa5\" y=\"115.92\"/>\r\n     <use style=\"fill:#3f3f3f;stroke:#3f3f3f;stroke-linejoin:miter;\" x=\"217.667273\" xlink:href=\"#m56e84d7aa5\" y=\"115.92\"/>\r\n     <use style=\"fill:#3f3f3f;stroke:#3f3f3f;stroke-linejoin:miter;\" x=\"229.841818\" xlink:href=\"#m56e84d7aa5\" y=\"115.92\"/>\r\n     <use style=\"fill:#3f3f3f;stroke:#3f3f3f;stroke-linejoin:miter;\" x=\"208.536364\" xlink:href=\"#m56e84d7aa5\" y=\"115.92\"/>\r\n     <use style=\"fill:#3f3f3f;stroke:#3f3f3f;stroke-linejoin:miter;\" x=\"208.536364\" xlink:href=\"#m56e84d7aa5\" y=\"115.92\"/>\r\n     <use style=\"fill:#3f3f3f;stroke:#3f3f3f;stroke-linejoin:miter;\" x=\"202.449091\" xlink:href=\"#m56e84d7aa5\" y=\"115.92\"/>\r\n     <use style=\"fill:#3f3f3f;stroke:#3f3f3f;stroke-linejoin:miter;\" x=\"217.667273\" xlink:href=\"#m56e84d7aa5\" y=\"115.92\"/>\r\n     <use style=\"fill:#3f3f3f;stroke:#3f3f3f;stroke-linejoin:miter;\" x=\"208.536364\" xlink:href=\"#m56e84d7aa5\" y=\"115.92\"/>\r\n     <use style=\"fill:#3f3f3f;stroke:#3f3f3f;stroke-linejoin:miter;\" x=\"202.449091\" xlink:href=\"#m56e84d7aa5\" y=\"115.92\"/>\r\n     <use style=\"fill:#3f3f3f;stroke:#3f3f3f;stroke-linejoin:miter;\" x=\"211.58\" xlink:href=\"#m56e84d7aa5\" y=\"115.92\"/>\r\n     <use style=\"fill:#3f3f3f;stroke:#3f3f3f;stroke-linejoin:miter;\" x=\"205.492727\" xlink:href=\"#m56e84d7aa5\" y=\"115.92\"/>\r\n     <use style=\"fill:#3f3f3f;stroke:#3f3f3f;stroke-linejoin:miter;\" x=\"251.147273\" xlink:href=\"#m56e84d7aa5\" y=\"115.92\"/>\r\n     <use style=\"fill:#3f3f3f;stroke:#3f3f3f;stroke-linejoin:miter;\" x=\"208.536364\" xlink:href=\"#m56e84d7aa5\" y=\"115.92\"/>\r\n     <use style=\"fill:#3f3f3f;stroke:#3f3f3f;stroke-linejoin:miter;\" x=\"223.754545\" xlink:href=\"#m56e84d7aa5\" y=\"115.92\"/>\r\n     <use style=\"fill:#3f3f3f;stroke:#3f3f3f;stroke-linejoin:miter;\" x=\"208.536364\" xlink:href=\"#m56e84d7aa5\" y=\"115.92\"/>\r\n     <use style=\"fill:#3f3f3f;stroke:#3f3f3f;stroke-linejoin:miter;\" x=\"217.667273\" xlink:href=\"#m56e84d7aa5\" y=\"115.92\"/>\r\n     <use style=\"fill:#3f3f3f;stroke:#3f3f3f;stroke-linejoin:miter;\" x=\"238.972727\" xlink:href=\"#m56e84d7aa5\" y=\"115.92\"/>\r\n     <use style=\"fill:#3f3f3f;stroke:#3f3f3f;stroke-linejoin:miter;\" x=\"205.492727\" xlink:href=\"#m56e84d7aa5\" y=\"115.92\"/>\r\n     <use style=\"fill:#3f3f3f;stroke:#3f3f3f;stroke-linejoin:miter;\" x=\"214.623636\" xlink:href=\"#m56e84d7aa5\" y=\"115.92\"/>\r\n     <use style=\"fill:#3f3f3f;stroke:#3f3f3f;stroke-linejoin:miter;\" x=\"208.536364\" xlink:href=\"#m56e84d7aa5\" y=\"115.92\"/>\r\n     <use style=\"fill:#3f3f3f;stroke:#3f3f3f;stroke-linejoin:miter;\" x=\"214.623636\" xlink:href=\"#m56e84d7aa5\" y=\"115.92\"/>\r\n     <use style=\"fill:#3f3f3f;stroke:#3f3f3f;stroke-linejoin:miter;\" x=\"211.58\" xlink:href=\"#m56e84d7aa5\" y=\"115.92\"/>\r\n     <use style=\"fill:#3f3f3f;stroke:#3f3f3f;stroke-linejoin:miter;\" x=\"208.536364\" xlink:href=\"#m56e84d7aa5\" y=\"115.92\"/>\r\n     <use style=\"fill:#3f3f3f;stroke:#3f3f3f;stroke-linejoin:miter;\" x=\"220.710909\" xlink:href=\"#m56e84d7aa5\" y=\"115.92\"/>\r\n     <use style=\"fill:#3f3f3f;stroke:#3f3f3f;stroke-linejoin:miter;\" x=\"202.449091\" xlink:href=\"#m56e84d7aa5\" y=\"115.92\"/>\r\n     <use style=\"fill:#3f3f3f;stroke:#3f3f3f;stroke-linejoin:miter;\" x=\"205.492727\" xlink:href=\"#m56e84d7aa5\" y=\"115.92\"/>\r\n     <use style=\"fill:#3f3f3f;stroke:#3f3f3f;stroke-linejoin:miter;\" x=\"235.929091\" xlink:href=\"#m56e84d7aa5\" y=\"115.92\"/>\r\n     <use style=\"fill:#3f3f3f;stroke:#3f3f3f;stroke-linejoin:miter;\" x=\"211.58\" xlink:href=\"#m56e84d7aa5\" y=\"115.92\"/>\r\n     <use style=\"fill:#3f3f3f;stroke:#3f3f3f;stroke-linejoin:miter;\" x=\"205.492727\" xlink:href=\"#m56e84d7aa5\" y=\"115.92\"/>\r\n     <use style=\"fill:#3f3f3f;stroke:#3f3f3f;stroke-linejoin:miter;\" x=\"226.798182\" xlink:href=\"#m56e84d7aa5\" y=\"115.92\"/>\r\n     <use style=\"fill:#3f3f3f;stroke:#3f3f3f;stroke-linejoin:miter;\" x=\"202.449091\" xlink:href=\"#m56e84d7aa5\" y=\"115.92\"/>\r\n     <use style=\"fill:#3f3f3f;stroke:#3f3f3f;stroke-linejoin:miter;\" x=\"211.58\" xlink:href=\"#m56e84d7aa5\" y=\"115.92\"/>\r\n     <use style=\"fill:#3f3f3f;stroke:#3f3f3f;stroke-linejoin:miter;\" x=\"223.754545\" xlink:href=\"#m56e84d7aa5\" y=\"115.92\"/>\r\n     <use style=\"fill:#3f3f3f;stroke:#3f3f3f;stroke-linejoin:miter;\" x=\"208.536364\" xlink:href=\"#m56e84d7aa5\" y=\"115.92\"/>\r\n     <use style=\"fill:#3f3f3f;stroke:#3f3f3f;stroke-linejoin:miter;\" x=\"232.885455\" xlink:href=\"#m56e84d7aa5\" y=\"115.92\"/>\r\n     <use style=\"fill:#3f3f3f;stroke:#3f3f3f;stroke-linejoin:miter;\" x=\"214.623636\" xlink:href=\"#m56e84d7aa5\" y=\"115.92\"/>\r\n     <use style=\"fill:#3f3f3f;stroke:#3f3f3f;stroke-linejoin:miter;\" x=\"217.667273\" xlink:href=\"#m56e84d7aa5\" y=\"115.92\"/>\r\n     <use style=\"fill:#3f3f3f;stroke:#3f3f3f;stroke-linejoin:miter;\" x=\"202.449091\" xlink:href=\"#m56e84d7aa5\" y=\"115.92\"/>\r\n     <use style=\"fill:#3f3f3f;stroke:#3f3f3f;stroke-linejoin:miter;\" x=\"205.492727\" xlink:href=\"#m56e84d7aa5\" y=\"115.92\"/>\r\n     <use style=\"fill:#3f3f3f;stroke:#3f3f3f;stroke-linejoin:miter;\" x=\"205.492727\" xlink:href=\"#m56e84d7aa5\" y=\"115.92\"/>\r\n     <use style=\"fill:#3f3f3f;stroke:#3f3f3f;stroke-linejoin:miter;\" x=\"214.623636\" xlink:href=\"#m56e84d7aa5\" y=\"115.92\"/>\r\n     <use style=\"fill:#3f3f3f;stroke:#3f3f3f;stroke-linejoin:miter;\" x=\"242.016364\" xlink:href=\"#m56e84d7aa5\" y=\"115.92\"/>\r\n     <use style=\"fill:#3f3f3f;stroke:#3f3f3f;stroke-linejoin:miter;\" x=\"205.492727\" xlink:href=\"#m56e84d7aa5\" y=\"115.92\"/>\r\n     <use style=\"fill:#3f3f3f;stroke:#3f3f3f;stroke-linejoin:miter;\" x=\"235.929091\" xlink:href=\"#m56e84d7aa5\" y=\"115.92\"/>\r\n     <use style=\"fill:#3f3f3f;stroke:#3f3f3f;stroke-linejoin:miter;\" x=\"226.798182\" xlink:href=\"#m56e84d7aa5\" y=\"115.92\"/>\r\n     <use style=\"fill:#3f3f3f;stroke:#3f3f3f;stroke-linejoin:miter;\" x=\"208.536364\" xlink:href=\"#m56e84d7aa5\" y=\"115.92\"/>\r\n     <use style=\"fill:#3f3f3f;stroke:#3f3f3f;stroke-linejoin:miter;\" x=\"208.536364\" xlink:href=\"#m56e84d7aa5\" y=\"115.92\"/>\r\n     <use style=\"fill:#3f3f3f;stroke:#3f3f3f;stroke-linejoin:miter;\" x=\"202.449091\" xlink:href=\"#m56e84d7aa5\" y=\"115.92\"/>\r\n     <use style=\"fill:#3f3f3f;stroke:#3f3f3f;stroke-linejoin:miter;\" x=\"229.841818\" xlink:href=\"#m56e84d7aa5\" y=\"115.92\"/>\r\n     <use style=\"fill:#3f3f3f;stroke:#3f3f3f;stroke-linejoin:miter;\" x=\"202.449091\" xlink:href=\"#m56e84d7aa5\" y=\"115.92\"/>\r\n     <use style=\"fill:#3f3f3f;stroke:#3f3f3f;stroke-linejoin:miter;\" x=\"229.841818\" xlink:href=\"#m56e84d7aa5\" y=\"115.92\"/>\r\n     <use style=\"fill:#3f3f3f;stroke:#3f3f3f;stroke-linejoin:miter;\" x=\"217.667273\" xlink:href=\"#m56e84d7aa5\" y=\"115.92\"/>\r\n     <use style=\"fill:#3f3f3f;stroke:#3f3f3f;stroke-linejoin:miter;\" x=\"238.972727\" xlink:href=\"#m56e84d7aa5\" y=\"115.92\"/>\r\n     <use style=\"fill:#3f3f3f;stroke:#3f3f3f;stroke-linejoin:miter;\" x=\"220.710909\" xlink:href=\"#m56e84d7aa5\" y=\"115.92\"/>\r\n     <use style=\"fill:#3f3f3f;stroke:#3f3f3f;stroke-linejoin:miter;\" x=\"208.536364\" xlink:href=\"#m56e84d7aa5\" y=\"115.92\"/>\r\n     <use style=\"fill:#3f3f3f;stroke:#3f3f3f;stroke-linejoin:miter;\" x=\"205.492727\" xlink:href=\"#m56e84d7aa5\" y=\"115.92\"/>\r\n     <use style=\"fill:#3f3f3f;stroke:#3f3f3f;stroke-linejoin:miter;\" x=\"226.798182\" xlink:href=\"#m56e84d7aa5\" y=\"115.92\"/>\r\n     <use style=\"fill:#3f3f3f;stroke:#3f3f3f;stroke-linejoin:miter;\" x=\"211.58\" xlink:href=\"#m56e84d7aa5\" y=\"115.92\"/>\r\n     <use style=\"fill:#3f3f3f;stroke:#3f3f3f;stroke-linejoin:miter;\" x=\"223.754545\" xlink:href=\"#m56e84d7aa5\" y=\"115.92\"/>\r\n     <use style=\"fill:#3f3f3f;stroke:#3f3f3f;stroke-linejoin:miter;\" x=\"205.492727\" xlink:href=\"#m56e84d7aa5\" y=\"115.92\"/>\r\n     <use style=\"fill:#3f3f3f;stroke:#3f3f3f;stroke-linejoin:miter;\" x=\"208.536364\" xlink:href=\"#m56e84d7aa5\" y=\"115.92\"/>\r\n     <use style=\"fill:#3f3f3f;stroke:#3f3f3f;stroke-linejoin:miter;\" x=\"205.492727\" xlink:href=\"#m56e84d7aa5\" y=\"115.92\"/>\r\n     <use style=\"fill:#3f3f3f;stroke:#3f3f3f;stroke-linejoin:miter;\" x=\"217.667273\" xlink:href=\"#m56e84d7aa5\" y=\"115.92\"/>\r\n     <use style=\"fill:#3f3f3f;stroke:#3f3f3f;stroke-linejoin:miter;\" x=\"214.623636\" xlink:href=\"#m56e84d7aa5\" y=\"115.92\"/>\r\n     <use style=\"fill:#3f3f3f;stroke:#3f3f3f;stroke-linejoin:miter;\" x=\"226.798182\" xlink:href=\"#m56e84d7aa5\" y=\"115.92\"/>\r\n     <use style=\"fill:#3f3f3f;stroke:#3f3f3f;stroke-linejoin:miter;\" x=\"202.449091\" xlink:href=\"#m56e84d7aa5\" y=\"115.92\"/>\r\n     <use style=\"fill:#3f3f3f;stroke:#3f3f3f;stroke-linejoin:miter;\" x=\"220.710909\" xlink:href=\"#m56e84d7aa5\" y=\"115.92\"/>\r\n     <use style=\"fill:#3f3f3f;stroke:#3f3f3f;stroke-linejoin:miter;\" x=\"214.623636\" xlink:href=\"#m56e84d7aa5\" y=\"115.92\"/>\r\n     <use style=\"fill:#3f3f3f;stroke:#3f3f3f;stroke-linejoin:miter;\" x=\"217.667273\" xlink:href=\"#m56e84d7aa5\" y=\"115.92\"/>\r\n     <use style=\"fill:#3f3f3f;stroke:#3f3f3f;stroke-linejoin:miter;\" x=\"327.238182\" xlink:href=\"#m56e84d7aa5\" y=\"115.92\"/>\r\n     <use style=\"fill:#3f3f3f;stroke:#3f3f3f;stroke-linejoin:miter;\" x=\"330.281818\" xlink:href=\"#m56e84d7aa5\" y=\"115.92\"/>\r\n     <use style=\"fill:#3f3f3f;stroke:#3f3f3f;stroke-linejoin:miter;\" x=\"232.885455\" xlink:href=\"#m56e84d7aa5\" y=\"115.92\"/>\r\n     <use style=\"fill:#3f3f3f;stroke:#3f3f3f;stroke-linejoin:miter;\" x=\"208.536364\" xlink:href=\"#m56e84d7aa5\" y=\"115.92\"/>\r\n     <use style=\"fill:#3f3f3f;stroke:#3f3f3f;stroke-linejoin:miter;\" x=\"214.623636\" xlink:href=\"#m56e84d7aa5\" y=\"115.92\"/>\r\n     <use style=\"fill:#3f3f3f;stroke:#3f3f3f;stroke-linejoin:miter;\" x=\"330.281818\" xlink:href=\"#m56e84d7aa5\" y=\"115.92\"/>\r\n     <use style=\"fill:#3f3f3f;stroke:#3f3f3f;stroke-linejoin:miter;\" x=\"208.536364\" xlink:href=\"#m56e84d7aa5\" y=\"115.92\"/>\r\n     <use style=\"fill:#3f3f3f;stroke:#3f3f3f;stroke-linejoin:miter;\" x=\"208.536364\" xlink:href=\"#m56e84d7aa5\" y=\"115.92\"/>\r\n     <use style=\"fill:#3f3f3f;stroke:#3f3f3f;stroke-linejoin:miter;\" x=\"211.58\" xlink:href=\"#m56e84d7aa5\" y=\"115.92\"/>\r\n     <use style=\"fill:#3f3f3f;stroke:#3f3f3f;stroke-linejoin:miter;\" x=\"202.449091\" xlink:href=\"#m56e84d7aa5\" y=\"115.92\"/>\r\n     <use style=\"fill:#3f3f3f;stroke:#3f3f3f;stroke-linejoin:miter;\" x=\"220.710909\" xlink:href=\"#m56e84d7aa5\" y=\"115.92\"/>\r\n     <use style=\"fill:#3f3f3f;stroke:#3f3f3f;stroke-linejoin:miter;\" x=\"217.667273\" xlink:href=\"#m56e84d7aa5\" y=\"115.92\"/>\r\n     <use style=\"fill:#3f3f3f;stroke:#3f3f3f;stroke-linejoin:miter;\" x=\"269.409091\" xlink:href=\"#m56e84d7aa5\" y=\"115.92\"/>\r\n     <use style=\"fill:#3f3f3f;stroke:#3f3f3f;stroke-linejoin:miter;\" x=\"202.449091\" xlink:href=\"#m56e84d7aa5\" y=\"115.92\"/>\r\n     <use style=\"fill:#3f3f3f;stroke:#3f3f3f;stroke-linejoin:miter;\" x=\"229.841818\" xlink:href=\"#m56e84d7aa5\" y=\"115.92\"/>\r\n     <use style=\"fill:#3f3f3f;stroke:#3f3f3f;stroke-linejoin:miter;\" x=\"211.58\" xlink:href=\"#m56e84d7aa5\" y=\"115.92\"/>\r\n     <use style=\"fill:#3f3f3f;stroke:#3f3f3f;stroke-linejoin:miter;\" x=\"205.492727\" xlink:href=\"#m56e84d7aa5\" y=\"115.92\"/>\r\n     <use style=\"fill:#3f3f3f;stroke:#3f3f3f;stroke-linejoin:miter;\" x=\"248.103636\" xlink:href=\"#m56e84d7aa5\" y=\"115.92\"/>\r\n     <use style=\"fill:#3f3f3f;stroke:#3f3f3f;stroke-linejoin:miter;\" x=\"208.536364\" xlink:href=\"#m56e84d7aa5\" y=\"115.92\"/>\r\n     <use style=\"fill:#3f3f3f;stroke:#3f3f3f;stroke-linejoin:miter;\" x=\"214.623636\" xlink:href=\"#m56e84d7aa5\" y=\"115.92\"/>\r\n     <use style=\"fill:#3f3f3f;stroke:#3f3f3f;stroke-linejoin:miter;\" x=\"232.885455\" xlink:href=\"#m56e84d7aa5\" y=\"115.92\"/>\r\n     <use style=\"fill:#3f3f3f;stroke:#3f3f3f;stroke-linejoin:miter;\" x=\"205.492727\" xlink:href=\"#m56e84d7aa5\" y=\"115.92\"/>\r\n     <use style=\"fill:#3f3f3f;stroke:#3f3f3f;stroke-linejoin:miter;\" x=\"220.710909\" xlink:href=\"#m56e84d7aa5\" y=\"115.92\"/>\r\n     <use style=\"fill:#3f3f3f;stroke:#3f3f3f;stroke-linejoin:miter;\" x=\"330.281818\" xlink:href=\"#m56e84d7aa5\" y=\"115.92\"/>\r\n     <use style=\"fill:#3f3f3f;stroke:#3f3f3f;stroke-linejoin:miter;\" x=\"220.710909\" xlink:href=\"#m56e84d7aa5\" y=\"115.92\"/>\r\n     <use style=\"fill:#3f3f3f;stroke:#3f3f3f;stroke-linejoin:miter;\" x=\"226.798182\" xlink:href=\"#m56e84d7aa5\" y=\"115.92\"/>\r\n     <use style=\"fill:#3f3f3f;stroke:#3f3f3f;stroke-linejoin:miter;\" x=\"232.885455\" xlink:href=\"#m56e84d7aa5\" y=\"115.92\"/>\r\n     <use style=\"fill:#3f3f3f;stroke:#3f3f3f;stroke-linejoin:miter;\" x=\"232.885455\" xlink:href=\"#m56e84d7aa5\" y=\"115.92\"/>\r\n     <use style=\"fill:#3f3f3f;stroke:#3f3f3f;stroke-linejoin:miter;\" x=\"211.58\" xlink:href=\"#m56e84d7aa5\" y=\"115.92\"/>\r\n     <use style=\"fill:#3f3f3f;stroke:#3f3f3f;stroke-linejoin:miter;\" x=\"226.798182\" xlink:href=\"#m56e84d7aa5\" y=\"115.92\"/>\r\n     <use style=\"fill:#3f3f3f;stroke:#3f3f3f;stroke-linejoin:miter;\" x=\"266.365455\" xlink:href=\"#m56e84d7aa5\" y=\"115.92\"/>\r\n     <use style=\"fill:#3f3f3f;stroke:#3f3f3f;stroke-linejoin:miter;\" x=\"229.841818\" xlink:href=\"#m56e84d7aa5\" y=\"115.92\"/>\r\n     <use style=\"fill:#3f3f3f;stroke:#3f3f3f;stroke-linejoin:miter;\" x=\"238.972727\" xlink:href=\"#m56e84d7aa5\" y=\"115.92\"/>\r\n     <use style=\"fill:#3f3f3f;stroke:#3f3f3f;stroke-linejoin:miter;\" x=\"226.798182\" xlink:href=\"#m56e84d7aa5\" y=\"115.92\"/>\r\n     <use style=\"fill:#3f3f3f;stroke:#3f3f3f;stroke-linejoin:miter;\" x=\"217.667273\" xlink:href=\"#m56e84d7aa5\" y=\"115.92\"/>\r\n     <use style=\"fill:#3f3f3f;stroke:#3f3f3f;stroke-linejoin:miter;\" x=\"229.841818\" xlink:href=\"#m56e84d7aa5\" y=\"115.92\"/>\r\n     <use style=\"fill:#3f3f3f;stroke:#3f3f3f;stroke-linejoin:miter;\" x=\"202.449091\" xlink:href=\"#m56e84d7aa5\" y=\"115.92\"/>\r\n    </g>\r\n   </g>\r\n   <g id=\"line2d_13\">\r\n    <path clip-path=\"url(#p58dd20751c)\" d=\"M 123.314545 28.944 \r\nL 123.314545 202.896 \r\n\" style=\"fill:none;stroke:#3f3f3f;stroke-linecap:square;stroke-width:1.5;\"/>\r\n   </g>\r\n   <g id=\"patch_4\">\r\n    <path d=\"M 10.7 224.64 \r\nL 10.7 7.2 \r\n\" style=\"fill:none;stroke:#000000;stroke-linecap:square;stroke-linejoin:miter;stroke-width:0.8;\"/>\r\n   </g>\r\n   <g id=\"patch_5\">\r\n    <path d=\"M 345.5 224.64 \r\nL 345.5 7.2 \r\n\" style=\"fill:none;stroke:#000000;stroke-linecap:square;stroke-linejoin:miter;stroke-width:0.8;\"/>\r\n   </g>\r\n   <g id=\"patch_6\">\r\n    <path d=\"M 10.7 224.64 \r\nL 345.5 224.64 \r\n\" style=\"fill:none;stroke:#000000;stroke-linecap:square;stroke-linejoin:miter;stroke-width:0.8;\"/>\r\n   </g>\r\n   <g id=\"patch_7\">\r\n    <path d=\"M 10.7 7.2 \r\nL 345.5 7.2 \r\n\" style=\"fill:none;stroke:#000000;stroke-linecap:square;stroke-linejoin:miter;stroke-width:0.8;\"/>\r\n   </g>\r\n  </g>\r\n </g>\r\n <defs>\r\n  <clipPath id=\"p58dd20751c\">\r\n   <rect height=\"217.44\" width=\"334.8\" x=\"10.7\" y=\"7.2\"/>\r\n  </clipPath>\r\n </defs>\r\n</svg>\r\n",
      "image/png": "[encoded data removed]"
     },
     "metadata": {
      "needs_background": "light"
     }
    }
   ]
  },
  {
   "cell_type": "code",
   "execution_count": 634,
   "metadata": {},
   "outputs": [
    {
     "output_type": "execute_result",
     "data": {
      "text/plain": [
       "<AxesSubplot:xlabel='CompensationScore'>"
      ]
     },
     "metadata": {},
     "execution_count": 634
    },
    {
     "output_type": "display_data",
     "data": {
      "text/plain": "<Figure size 432x288 with 1 Axes>",
      "image/svg+xml": "<?xml version=\"1.0\" encoding=\"utf-8\" standalone=\"no\"?>\r\n<!DOCTYPE svg PUBLIC \"-//W3C//DTD SVG 1.1//EN\"\r\n  \"http://www.w3.org/Graphics/SVG/1.1/DTD/svg11.dtd\">\r\n<!-- Created with matplotlib (https://matplotlib.org/) -->\r\n<svg height=\"262.19625pt\" version=\"1.1\" viewBox=\"0 0 352.7 262.19625\" width=\"352.7pt\" xmlns=\"http://www.w3.org/2000/svg\" xmlns:xlink=\"http://www.w3.org/1999/xlink\">\r\n <metadata>\r\n  <rdf:RDF xmlns:cc=\"http://creativecommons.org/ns#\" xmlns:dc=\"http://purl.org/dc/elements/1.1/\" xmlns:rdf=\"http://www.w3.org/1999/02/22-rdf-syntax-ns#\">\r\n   <cc:Work>\r\n    <dc:type rdf:resource=\"http://purl.org/dc/dcmitype/StillImage\"/>\r\n    <dc:date>2021-01-03T22:46:42.711877</dc:date>\r\n    <dc:format>image/svg+xml</dc:format>\r\n    <dc:creator>\r\n     <cc:Agent>\r\n      <dc:title>Matplotlib v3.3.3, https://matplotlib.org/</dc:title>\r\n     </cc:Agent>\r\n    </dc:creator>\r\n   </cc:Work>\r\n  </rdf:RDF>\r\n </metadata>\r\n <defs>\r\n  <style type=\"text/css\">*{stroke-linecap:butt;stroke-linejoin:round;}</style>\r\n </defs>\r\n <g id=\"figure_1\">\r\n  <g id=\"patch_1\">\r\n   <path d=\"M 0 262.19625 \r\nL 352.7 262.19625 \r\nL 352.7 0 \r\nL 0 0 \r\nz\r\n\" style=\"fill:none;\"/>\r\n  </g>\r\n  <g id=\"axes_1\">\r\n   <g id=\"patch_2\">\r\n    <path d=\"M 10.7 224.64 \r\nL 345.5 224.64 \r\nL 345.5 7.2 \r\nL 10.7 7.2 \r\nz\r\n\" style=\"fill:#ffffff;\"/>\r\n   </g>\r\n   <g id=\"patch_3\">\r\n    <path clip-path=\"url(#p3072e0dbc5)\" d=\"M 86.790909 28.944 \r\nL 86.790909 202.896 \r\nL 269.409091 202.896 \r\nL 269.409091 28.944 \r\nL 86.790909 28.944 \r\nz\r\n\" style=\"fill:#3274a1;stroke:#3f3f3f;stroke-linejoin:miter;stroke-width:1.5;\"/>\r\n   </g>\r\n   <g id=\"matplotlib.axis_1\">\r\n    <g id=\"xtick_1\">\r\n     <g id=\"line2d_1\">\r\n      <defs>\r\n       <path d=\"M 0 0 \r\nL 0 3.5 \r\n\" id=\"m9a0210716e\" style=\"stroke:#000000;stroke-width:0.8;\"/>\r\n      </defs>\r\n      <g>\r\n       <use style=\"stroke:#000000;stroke-width:0.8;\" x=\"25.918182\" xlink:href=\"#m9a0210716e\" y=\"224.64\"/>\r\n      </g>\r\n     </g>\r\n     <g id=\"text_1\">\r\n      <!-- 0 -->\r\n      <g transform=\"translate(22.736932 239.238437)scale(0.1 -0.1)\">\r\n       <defs>\r\n        <path d=\"M 31.78125 66.40625 \r\nQ 24.171875 66.40625 20.328125 58.90625 \r\nQ 16.5 51.421875 16.5 36.375 \r\nQ 16.5 21.390625 20.328125 13.890625 \r\nQ 24.171875 6.390625 31.78125 6.390625 \r\nQ 39.453125 6.390625 43.28125 13.890625 \r\nQ 47.125 21.390625 47.125 36.375 \r\nQ 47.125 51.421875 43.28125 58.90625 \r\nQ 39.453125 66.40625 31.78125 66.40625 \r\nz\r\nM 31.78125 74.21875 \r\nQ 44.046875 74.21875 50.515625 64.515625 \r\nQ 56.984375 54.828125 56.984375 36.375 \r\nQ 56.984375 17.96875 50.515625 8.265625 \r\nQ 44.046875 -1.421875 31.78125 -1.421875 \r\nQ 19.53125 -1.421875 13.0625 8.265625 \r\nQ 6.59375 17.96875 6.59375 36.375 \r\nQ 6.59375 54.828125 13.0625 64.515625 \r\nQ 19.53125 74.21875 31.78125 74.21875 \r\nz\r\n\" id=\"DejaVuSans-48\"/>\r\n       </defs>\r\n       <use xlink:href=\"#DejaVuSans-48\"/>\r\n      </g>\r\n     </g>\r\n    </g>\r\n    <g id=\"xtick_2\">\r\n     <g id=\"line2d_2\">\r\n      <g>\r\n       <use style=\"stroke:#000000;stroke-width:0.8;\" x=\"86.790909\" xlink:href=\"#m9a0210716e\" y=\"224.64\"/>\r\n      </g>\r\n     </g>\r\n     <g id=\"text_2\">\r\n      <!-- 2 -->\r\n      <g transform=\"translate(83.609659 239.238437)scale(0.1 -0.1)\">\r\n       <defs>\r\n        <path d=\"M 19.1875 8.296875 \r\nL 53.609375 8.296875 \r\nL 53.609375 0 \r\nL 7.328125 0 \r\nL 7.328125 8.296875 \r\nQ 12.9375 14.109375 22.625 23.890625 \r\nQ 32.328125 33.6875 34.8125 36.53125 \r\nQ 39.546875 41.84375 41.421875 45.53125 \r\nQ 43.3125 49.21875 43.3125 52.78125 \r\nQ 43.3125 58.59375 39.234375 62.25 \r\nQ 35.15625 65.921875 28.609375 65.921875 \r\nQ 23.96875 65.921875 18.8125 64.3125 \r\nQ 13.671875 62.703125 7.8125 59.421875 \r\nL 7.8125 69.390625 \r\nQ 13.765625 71.78125 18.9375 73 \r\nQ 24.125 74.21875 28.421875 74.21875 \r\nQ 39.75 74.21875 46.484375 68.546875 \r\nQ 53.21875 62.890625 53.21875 53.421875 \r\nQ 53.21875 48.921875 51.53125 44.890625 \r\nQ 49.859375 40.875 45.40625 35.40625 \r\nQ 44.1875 33.984375 37.640625 27.21875 \r\nQ 31.109375 20.453125 19.1875 8.296875 \r\nz\r\n\" id=\"DejaVuSans-50\"/>\r\n       </defs>\r\n       <use xlink:href=\"#DejaVuSans-50\"/>\r\n      </g>\r\n     </g>\r\n    </g>\r\n    <g id=\"xtick_3\">\r\n     <g id=\"line2d_3\">\r\n      <g>\r\n       <use style=\"stroke:#000000;stroke-width:0.8;\" x=\"147.663636\" xlink:href=\"#m9a0210716e\" y=\"224.64\"/>\r\n      </g>\r\n     </g>\r\n     <g id=\"text_3\">\r\n      <!-- 4 -->\r\n      <g transform=\"translate(144.482386 239.238437)scale(0.1 -0.1)\">\r\n       <defs>\r\n        <path d=\"M 37.796875 64.3125 \r\nL 12.890625 25.390625 \r\nL 37.796875 25.390625 \r\nz\r\nM 35.203125 72.90625 \r\nL 47.609375 72.90625 \r\nL 47.609375 25.390625 \r\nL 58.015625 25.390625 \r\nL 58.015625 17.1875 \r\nL 47.609375 17.1875 \r\nL 47.609375 0 \r\nL 37.796875 0 \r\nL 37.796875 17.1875 \r\nL 4.890625 17.1875 \r\nL 4.890625 26.703125 \r\nz\r\n\" id=\"DejaVuSans-52\"/>\r\n       </defs>\r\n       <use xlink:href=\"#DejaVuSans-52\"/>\r\n      </g>\r\n     </g>\r\n    </g>\r\n    <g id=\"xtick_4\">\r\n     <g id=\"line2d_4\">\r\n      <g>\r\n       <use style=\"stroke:#000000;stroke-width:0.8;\" x=\"208.536364\" xlink:href=\"#m9a0210716e\" y=\"224.64\"/>\r\n      </g>\r\n     </g>\r\n     <g id=\"text_4\">\r\n      <!-- 6 -->\r\n      <g transform=\"translate(205.355114 239.238437)scale(0.1 -0.1)\">\r\n       <defs>\r\n        <path d=\"M 33.015625 40.375 \r\nQ 26.375 40.375 22.484375 35.828125 \r\nQ 18.609375 31.296875 18.609375 23.390625 \r\nQ 18.609375 15.53125 22.484375 10.953125 \r\nQ 26.375 6.390625 33.015625 6.390625 \r\nQ 39.65625 6.390625 43.53125 10.953125 \r\nQ 47.40625 15.53125 47.40625 23.390625 \r\nQ 47.40625 31.296875 43.53125 35.828125 \r\nQ 39.65625 40.375 33.015625 40.375 \r\nz\r\nM 52.59375 71.296875 \r\nL 52.59375 62.3125 \r\nQ 48.875 64.0625 45.09375 64.984375 \r\nQ 41.3125 65.921875 37.59375 65.921875 \r\nQ 27.828125 65.921875 22.671875 59.328125 \r\nQ 17.53125 52.734375 16.796875 39.40625 \r\nQ 19.671875 43.65625 24.015625 45.921875 \r\nQ 28.375 48.1875 33.59375 48.1875 \r\nQ 44.578125 48.1875 50.953125 41.515625 \r\nQ 57.328125 34.859375 57.328125 23.390625 \r\nQ 57.328125 12.15625 50.6875 5.359375 \r\nQ 44.046875 -1.421875 33.015625 -1.421875 \r\nQ 20.359375 -1.421875 13.671875 8.265625 \r\nQ 6.984375 17.96875 6.984375 36.375 \r\nQ 6.984375 53.65625 15.1875 63.9375 \r\nQ 23.390625 74.21875 37.203125 74.21875 \r\nQ 40.921875 74.21875 44.703125 73.484375 \r\nQ 48.484375 72.75 52.59375 71.296875 \r\nz\r\n\" id=\"DejaVuSans-54\"/>\r\n       </defs>\r\n       <use xlink:href=\"#DejaVuSans-54\"/>\r\n      </g>\r\n     </g>\r\n    </g>\r\n    <g id=\"xtick_5\">\r\n     <g id=\"line2d_5\">\r\n      <g>\r\n       <use style=\"stroke:#000000;stroke-width:0.8;\" x=\"269.409091\" xlink:href=\"#m9a0210716e\" y=\"224.64\"/>\r\n      </g>\r\n     </g>\r\n     <g id=\"text_5\">\r\n      <!-- 8 -->\r\n      <g transform=\"translate(266.227841 239.238437)scale(0.1 -0.1)\">\r\n       <defs>\r\n        <path d=\"M 31.78125 34.625 \r\nQ 24.75 34.625 20.71875 30.859375 \r\nQ 16.703125 27.09375 16.703125 20.515625 \r\nQ 16.703125 13.921875 20.71875 10.15625 \r\nQ 24.75 6.390625 31.78125 6.390625 \r\nQ 38.8125 6.390625 42.859375 10.171875 \r\nQ 46.921875 13.96875 46.921875 20.515625 \r\nQ 46.921875 27.09375 42.890625 30.859375 \r\nQ 38.875 34.625 31.78125 34.625 \r\nz\r\nM 21.921875 38.8125 \r\nQ 15.578125 40.375 12.03125 44.71875 \r\nQ 8.5 49.078125 8.5 55.328125 \r\nQ 8.5 64.0625 14.71875 69.140625 \r\nQ 20.953125 74.21875 31.78125 74.21875 \r\nQ 42.671875 74.21875 48.875 69.140625 \r\nQ 55.078125 64.0625 55.078125 55.328125 \r\nQ 55.078125 49.078125 51.53125 44.71875 \r\nQ 48 40.375 41.703125 38.8125 \r\nQ 48.828125 37.15625 52.796875 32.3125 \r\nQ 56.78125 27.484375 56.78125 20.515625 \r\nQ 56.78125 9.90625 50.3125 4.234375 \r\nQ 43.84375 -1.421875 31.78125 -1.421875 \r\nQ 19.734375 -1.421875 13.25 4.234375 \r\nQ 6.78125 9.90625 6.78125 20.515625 \r\nQ 6.78125 27.484375 10.78125 32.3125 \r\nQ 14.796875 37.15625 21.921875 38.8125 \r\nz\r\nM 18.3125 54.390625 \r\nQ 18.3125 48.734375 21.84375 45.5625 \r\nQ 25.390625 42.390625 31.78125 42.390625 \r\nQ 38.140625 42.390625 41.71875 45.5625 \r\nQ 45.3125 48.734375 45.3125 54.390625 \r\nQ 45.3125 60.0625 41.71875 63.234375 \r\nQ 38.140625 66.40625 31.78125 66.40625 \r\nQ 25.390625 66.40625 21.84375 63.234375 \r\nQ 18.3125 60.0625 18.3125 54.390625 \r\nz\r\n\" id=\"DejaVuSans-56\"/>\r\n       </defs>\r\n       <use xlink:href=\"#DejaVuSans-56\"/>\r\n      </g>\r\n     </g>\r\n    </g>\r\n    <g id=\"xtick_6\">\r\n     <g id=\"line2d_6\">\r\n      <g>\r\n       <use style=\"stroke:#000000;stroke-width:0.8;\" x=\"330.281818\" xlink:href=\"#m9a0210716e\" y=\"224.64\"/>\r\n      </g>\r\n     </g>\r\n     <g id=\"text_6\">\r\n      <!-- 10 -->\r\n      <g transform=\"translate(323.919318 239.238437)scale(0.1 -0.1)\">\r\n       <defs>\r\n        <path d=\"M 12.40625 8.296875 \r\nL 28.515625 8.296875 \r\nL 28.515625 63.921875 \r\nL 10.984375 60.40625 \r\nL 10.984375 69.390625 \r\nL 28.421875 72.90625 \r\nL 38.28125 72.90625 \r\nL 38.28125 8.296875 \r\nL 54.390625 8.296875 \r\nL 54.390625 0 \r\nL 12.40625 0 \r\nz\r\n\" id=\"DejaVuSans-49\"/>\r\n       </defs>\r\n       <use xlink:href=\"#DejaVuSans-49\"/>\r\n       <use x=\"63.623047\" xlink:href=\"#DejaVuSans-48\"/>\r\n      </g>\r\n     </g>\r\n    </g>\r\n    <g id=\"text_7\">\r\n     <!-- CompensationScore -->\r\n     <g transform=\"translate(128.010938 252.916562)scale(0.1 -0.1)\">\r\n      <defs>\r\n       <path d=\"M 64.40625 67.28125 \r\nL 64.40625 56.890625 \r\nQ 59.421875 61.53125 53.78125 63.8125 \r\nQ 48.140625 66.109375 41.796875 66.109375 \r\nQ 29.296875 66.109375 22.65625 58.46875 \r\nQ 16.015625 50.828125 16.015625 36.375 \r\nQ 16.015625 21.96875 22.65625 14.328125 \r\nQ 29.296875 6.6875 41.796875 6.6875 \r\nQ 48.140625 6.6875 53.78125 8.984375 \r\nQ 59.421875 11.28125 64.40625 15.921875 \r\nL 64.40625 5.609375 \r\nQ 59.234375 2.09375 53.4375 0.328125 \r\nQ 47.65625 -1.421875 41.21875 -1.421875 \r\nQ 24.65625 -1.421875 15.125 8.703125 \r\nQ 5.609375 18.84375 5.609375 36.375 \r\nQ 5.609375 53.953125 15.125 64.078125 \r\nQ 24.65625 74.21875 41.21875 74.21875 \r\nQ 47.75 74.21875 53.53125 72.484375 \r\nQ 59.328125 70.75 64.40625 67.28125 \r\nz\r\n\" id=\"DejaVuSans-67\"/>\r\n       <path d=\"M 30.609375 48.390625 \r\nQ 23.390625 48.390625 19.1875 42.75 \r\nQ 14.984375 37.109375 14.984375 27.296875 \r\nQ 14.984375 17.484375 19.15625 11.84375 \r\nQ 23.34375 6.203125 30.609375 6.203125 \r\nQ 37.796875 6.203125 41.984375 11.859375 \r\nQ 46.1875 17.53125 46.1875 27.296875 \r\nQ 46.1875 37.015625 41.984375 42.703125 \r\nQ 37.796875 48.390625 30.609375 48.390625 \r\nz\r\nM 30.609375 56 \r\nQ 42.328125 56 49.015625 48.375 \r\nQ 55.71875 40.765625 55.71875 27.296875 \r\nQ 55.71875 13.875 49.015625 6.21875 \r\nQ 42.328125 -1.421875 30.609375 -1.421875 \r\nQ 18.84375 -1.421875 12.171875 6.21875 \r\nQ 5.515625 13.875 5.515625 27.296875 \r\nQ 5.515625 40.765625 12.171875 48.375 \r\nQ 18.84375 56 30.609375 56 \r\nz\r\n\" id=\"DejaVuSans-111\"/>\r\n       <path d=\"M 52 44.1875 \r\nQ 55.375 50.25 60.0625 53.125 \r\nQ 64.75 56 71.09375 56 \r\nQ 79.640625 56 84.28125 50.015625 \r\nQ 88.921875 44.046875 88.921875 33.015625 \r\nL 88.921875 0 \r\nL 79.890625 0 \r\nL 79.890625 32.71875 \r\nQ 79.890625 40.578125 77.09375 44.375 \r\nQ 74.3125 48.1875 68.609375 48.1875 \r\nQ 61.625 48.1875 57.5625 43.546875 \r\nQ 53.515625 38.921875 53.515625 30.90625 \r\nL 53.515625 0 \r\nL 44.484375 0 \r\nL 44.484375 32.71875 \r\nQ 44.484375 40.625 41.703125 44.40625 \r\nQ 38.921875 48.1875 33.109375 48.1875 \r\nQ 26.21875 48.1875 22.15625 43.53125 \r\nQ 18.109375 38.875 18.109375 30.90625 \r\nL 18.109375 0 \r\nL 9.078125 0 \r\nL 9.078125 54.6875 \r\nL 18.109375 54.6875 \r\nL 18.109375 46.1875 \r\nQ 21.1875 51.21875 25.484375 53.609375 \r\nQ 29.78125 56 35.6875 56 \r\nQ 41.65625 56 45.828125 52.96875 \r\nQ 50 49.953125 52 44.1875 \r\nz\r\n\" id=\"DejaVuSans-109\"/>\r\n       <path d=\"M 18.109375 8.203125 \r\nL 18.109375 -20.796875 \r\nL 9.078125 -20.796875 \r\nL 9.078125 54.6875 \r\nL 18.109375 54.6875 \r\nL 18.109375 46.390625 \r\nQ 20.953125 51.265625 25.265625 53.625 \r\nQ 29.59375 56 35.59375 56 \r\nQ 45.5625 56 51.78125 48.09375 \r\nQ 58.015625 40.1875 58.015625 27.296875 \r\nQ 58.015625 14.40625 51.78125 6.484375 \r\nQ 45.5625 -1.421875 35.59375 -1.421875 \r\nQ 29.59375 -1.421875 25.265625 0.953125 \r\nQ 20.953125 3.328125 18.109375 8.203125 \r\nz\r\nM 48.6875 27.296875 \r\nQ 48.6875 37.203125 44.609375 42.84375 \r\nQ 40.53125 48.484375 33.40625 48.484375 \r\nQ 26.265625 48.484375 22.1875 42.84375 \r\nQ 18.109375 37.203125 18.109375 27.296875 \r\nQ 18.109375 17.390625 22.1875 11.75 \r\nQ 26.265625 6.109375 33.40625 6.109375 \r\nQ 40.53125 6.109375 44.609375 11.75 \r\nQ 48.6875 17.390625 48.6875 27.296875 \r\nz\r\n\" id=\"DejaVuSans-112\"/>\r\n       <path d=\"M 56.203125 29.59375 \r\nL 56.203125 25.203125 \r\nL 14.890625 25.203125 \r\nQ 15.484375 15.921875 20.484375 11.0625 \r\nQ 25.484375 6.203125 34.421875 6.203125 \r\nQ 39.59375 6.203125 44.453125 7.46875 \r\nQ 49.3125 8.734375 54.109375 11.28125 \r\nL 54.109375 2.78125 \r\nQ 49.265625 0.734375 44.1875 -0.34375 \r\nQ 39.109375 -1.421875 33.890625 -1.421875 \r\nQ 20.796875 -1.421875 13.15625 6.1875 \r\nQ 5.515625 13.8125 5.515625 26.8125 \r\nQ 5.515625 40.234375 12.765625 48.109375 \r\nQ 20.015625 56 32.328125 56 \r\nQ 43.359375 56 49.78125 48.890625 \r\nQ 56.203125 41.796875 56.203125 29.59375 \r\nz\r\nM 47.21875 32.234375 \r\nQ 47.125 39.59375 43.09375 43.984375 \r\nQ 39.0625 48.390625 32.421875 48.390625 \r\nQ 24.90625 48.390625 20.390625 44.140625 \r\nQ 15.875 39.890625 15.1875 32.171875 \r\nz\r\n\" id=\"DejaVuSans-101\"/>\r\n       <path d=\"M 54.890625 33.015625 \r\nL 54.890625 0 \r\nL 45.90625 0 \r\nL 45.90625 32.71875 \r\nQ 45.90625 40.484375 42.875 44.328125 \r\nQ 39.84375 48.1875 33.796875 48.1875 \r\nQ 26.515625 48.1875 22.3125 43.546875 \r\nQ 18.109375 38.921875 18.109375 30.90625 \r\nL 18.109375 0 \r\nL 9.078125 0 \r\nL 9.078125 54.6875 \r\nL 18.109375 54.6875 \r\nL 18.109375 46.1875 \r\nQ 21.34375 51.125 25.703125 53.5625 \r\nQ 30.078125 56 35.796875 56 \r\nQ 45.21875 56 50.046875 50.171875 \r\nQ 54.890625 44.34375 54.890625 33.015625 \r\nz\r\n\" id=\"DejaVuSans-110\"/>\r\n       <path d=\"M 44.28125 53.078125 \r\nL 44.28125 44.578125 \r\nQ 40.484375 46.53125 36.375 47.5 \r\nQ 32.28125 48.484375 27.875 48.484375 \r\nQ 21.1875 48.484375 17.84375 46.4375 \r\nQ 14.5 44.390625 14.5 40.28125 \r\nQ 14.5 37.15625 16.890625 35.375 \r\nQ 19.28125 33.59375 26.515625 31.984375 \r\nL 29.59375 31.296875 \r\nQ 39.15625 29.25 43.1875 25.515625 \r\nQ 47.21875 21.78125 47.21875 15.09375 \r\nQ 47.21875 7.46875 41.1875 3.015625 \r\nQ 35.15625 -1.421875 24.609375 -1.421875 \r\nQ 20.21875 -1.421875 15.453125 -0.5625 \r\nQ 10.6875 0.296875 5.421875 2 \r\nL 5.421875 11.28125 \r\nQ 10.40625 8.6875 15.234375 7.390625 \r\nQ 20.0625 6.109375 24.8125 6.109375 \r\nQ 31.15625 6.109375 34.5625 8.28125 \r\nQ 37.984375 10.453125 37.984375 14.40625 \r\nQ 37.984375 18.0625 35.515625 20.015625 \r\nQ 33.0625 21.96875 24.703125 23.78125 \r\nL 21.578125 24.515625 \r\nQ 13.234375 26.265625 9.515625 29.90625 \r\nQ 5.8125 33.546875 5.8125 39.890625 \r\nQ 5.8125 47.609375 11.28125 51.796875 \r\nQ 16.75 56 26.8125 56 \r\nQ 31.78125 56 36.171875 55.265625 \r\nQ 40.578125 54.546875 44.28125 53.078125 \r\nz\r\n\" id=\"DejaVuSans-115\"/>\r\n       <path d=\"M 34.28125 27.484375 \r\nQ 23.390625 27.484375 19.1875 25 \r\nQ 14.984375 22.515625 14.984375 16.5 \r\nQ 14.984375 11.71875 18.140625 8.90625 \r\nQ 21.296875 6.109375 26.703125 6.109375 \r\nQ 34.1875 6.109375 38.703125 11.40625 \r\nQ 43.21875 16.703125 43.21875 25.484375 \r\nL 43.21875 27.484375 \r\nz\r\nM 52.203125 31.203125 \r\nL 52.203125 0 \r\nL 43.21875 0 \r\nL 43.21875 8.296875 \r\nQ 40.140625 3.328125 35.546875 0.953125 \r\nQ 30.953125 -1.421875 24.3125 -1.421875 \r\nQ 15.921875 -1.421875 10.953125 3.296875 \r\nQ 6 8.015625 6 15.921875 \r\nQ 6 25.140625 12.171875 29.828125 \r\nQ 18.359375 34.515625 30.609375 34.515625 \r\nL 43.21875 34.515625 \r\nL 43.21875 35.40625 \r\nQ 43.21875 41.609375 39.140625 45 \r\nQ 35.0625 48.390625 27.6875 48.390625 \r\nQ 23 48.390625 18.546875 47.265625 \r\nQ 14.109375 46.140625 10.015625 43.890625 \r\nL 10.015625 52.203125 \r\nQ 14.9375 54.109375 19.578125 55.046875 \r\nQ 24.21875 56 28.609375 56 \r\nQ 40.484375 56 46.34375 49.84375 \r\nQ 52.203125 43.703125 52.203125 31.203125 \r\nz\r\n\" id=\"DejaVuSans-97\"/>\r\n       <path d=\"M 18.3125 70.21875 \r\nL 18.3125 54.6875 \r\nL 36.8125 54.6875 \r\nL 36.8125 47.703125 \r\nL 18.3125 47.703125 \r\nL 18.3125 18.015625 \r\nQ 18.3125 11.328125 20.140625 9.421875 \r\nQ 21.96875 7.515625 27.59375 7.515625 \r\nL 36.8125 7.515625 \r\nL 36.8125 0 \r\nL 27.59375 0 \r\nQ 17.1875 0 13.234375 3.875 \r\nQ 9.28125 7.765625 9.28125 18.015625 \r\nL 9.28125 47.703125 \r\nL 2.6875 47.703125 \r\nL 2.6875 54.6875 \r\nL 9.28125 54.6875 \r\nL 9.28125 70.21875 \r\nz\r\n\" id=\"DejaVuSans-116\"/>\r\n       <path d=\"M 9.421875 54.6875 \r\nL 18.40625 54.6875 \r\nL 18.40625 0 \r\nL 9.421875 0 \r\nz\r\nM 9.421875 75.984375 \r\nL 18.40625 75.984375 \r\nL 18.40625 64.59375 \r\nL 9.421875 64.59375 \r\nz\r\n\" id=\"DejaVuSans-105\"/>\r\n       <path d=\"M 53.515625 70.515625 \r\nL 53.515625 60.890625 \r\nQ 47.90625 63.578125 42.921875 64.890625 \r\nQ 37.9375 66.21875 33.296875 66.21875 \r\nQ 25.25 66.21875 20.875 63.09375 \r\nQ 16.5 59.96875 16.5 54.203125 \r\nQ 16.5 49.359375 19.40625 46.890625 \r\nQ 22.3125 44.4375 30.421875 42.921875 \r\nL 36.375 41.703125 \r\nQ 47.40625 39.59375 52.65625 34.296875 \r\nQ 57.90625 29 57.90625 20.125 \r\nQ 57.90625 9.515625 50.796875 4.046875 \r\nQ 43.703125 -1.421875 29.984375 -1.421875 \r\nQ 24.8125 -1.421875 18.96875 -0.25 \r\nQ 13.140625 0.921875 6.890625 3.21875 \r\nL 6.890625 13.375 \r\nQ 12.890625 10.015625 18.65625 8.296875 \r\nQ 24.421875 6.59375 29.984375 6.59375 \r\nQ 38.421875 6.59375 43.015625 9.90625 \r\nQ 47.609375 13.234375 47.609375 19.390625 \r\nQ 47.609375 24.75 44.3125 27.78125 \r\nQ 41.015625 30.8125 33.5 32.328125 \r\nL 27.484375 33.5 \r\nQ 16.453125 35.6875 11.515625 40.375 \r\nQ 6.59375 45.0625 6.59375 53.421875 \r\nQ 6.59375 63.09375 13.40625 68.65625 \r\nQ 20.21875 74.21875 32.171875 74.21875 \r\nQ 37.3125 74.21875 42.625 73.28125 \r\nQ 47.953125 72.359375 53.515625 70.515625 \r\nz\r\n\" id=\"DejaVuSans-83\"/>\r\n       <path d=\"M 48.78125 52.59375 \r\nL 48.78125 44.1875 \r\nQ 44.96875 46.296875 41.140625 47.34375 \r\nQ 37.3125 48.390625 33.40625 48.390625 \r\nQ 24.65625 48.390625 19.8125 42.84375 \r\nQ 14.984375 37.3125 14.984375 27.296875 \r\nQ 14.984375 17.28125 19.8125 11.734375 \r\nQ 24.65625 6.203125 33.40625 6.203125 \r\nQ 37.3125 6.203125 41.140625 7.25 \r\nQ 44.96875 8.296875 48.78125 10.40625 \r\nL 48.78125 2.09375 \r\nQ 45.015625 0.34375 40.984375 -0.53125 \r\nQ 36.96875 -1.421875 32.421875 -1.421875 \r\nQ 20.0625 -1.421875 12.78125 6.34375 \r\nQ 5.515625 14.109375 5.515625 27.296875 \r\nQ 5.515625 40.671875 12.859375 48.328125 \r\nQ 20.21875 56 33.015625 56 \r\nQ 37.15625 56 41.109375 55.140625 \r\nQ 45.0625 54.296875 48.78125 52.59375 \r\nz\r\n\" id=\"DejaVuSans-99\"/>\r\n       <path d=\"M 41.109375 46.296875 \r\nQ 39.59375 47.171875 37.8125 47.578125 \r\nQ 36.03125 48 33.890625 48 \r\nQ 26.265625 48 22.1875 43.046875 \r\nQ 18.109375 38.09375 18.109375 28.8125 \r\nL 18.109375 0 \r\nL 9.078125 0 \r\nL 9.078125 54.6875 \r\nL 18.109375 54.6875 \r\nL 18.109375 46.1875 \r\nQ 20.953125 51.171875 25.484375 53.578125 \r\nQ 30.03125 56 36.53125 56 \r\nQ 37.453125 56 38.578125 55.875 \r\nQ 39.703125 55.765625 41.0625 55.515625 \r\nz\r\n\" id=\"DejaVuSans-114\"/>\r\n      </defs>\r\n      <use xlink:href=\"#DejaVuSans-67\"/>\r\n      <use x=\"69.824219\" xlink:href=\"#DejaVuSans-111\"/>\r\n      <use x=\"131.005859\" xlink:href=\"#DejaVuSans-109\"/>\r\n      <use x=\"228.417969\" xlink:href=\"#DejaVuSans-112\"/>\r\n      <use x=\"291.894531\" xlink:href=\"#DejaVuSans-101\"/>\r\n      <use x=\"353.417969\" xlink:href=\"#DejaVuSans-110\"/>\r\n      <use x=\"416.796875\" xlink:href=\"#DejaVuSans-115\"/>\r\n      <use x=\"468.896484\" xlink:href=\"#DejaVuSans-97\"/>\r\n      <use x=\"530.175781\" xlink:href=\"#DejaVuSans-116\"/>\r\n      <use x=\"569.384766\" xlink:href=\"#DejaVuSans-105\"/>\r\n      <use x=\"597.167969\" xlink:href=\"#DejaVuSans-111\"/>\r\n      <use x=\"658.349609\" xlink:href=\"#DejaVuSans-110\"/>\r\n      <use x=\"721.728516\" xlink:href=\"#DejaVuSans-83\"/>\r\n      <use x=\"785.205078\" xlink:href=\"#DejaVuSans-99\"/>\r\n      <use x=\"840.185547\" xlink:href=\"#DejaVuSans-111\"/>\r\n      <use x=\"901.367188\" xlink:href=\"#DejaVuSans-114\"/>\r\n      <use x=\"940.230469\" xlink:href=\"#DejaVuSans-101\"/>\r\n     </g>\r\n    </g>\r\n   </g>\r\n   <g id=\"matplotlib.axis_2\">\r\n    <g id=\"ytick_1\">\r\n     <g id=\"line2d_7\">\r\n      <defs>\r\n       <path d=\"M 0 0 \r\nL -3.5 0 \r\n\" id=\"m265b798738\" style=\"stroke:#000000;stroke-width:0.8;\"/>\r\n      </defs>\r\n      <g>\r\n       <use style=\"stroke:#000000;stroke-width:0.8;\" x=\"10.7\" xlink:href=\"#m265b798738\" y=\"115.92\"/>\r\n      </g>\r\n     </g>\r\n    </g>\r\n   </g>\r\n   <g id=\"line2d_8\">\r\n    <path clip-path=\"url(#p3072e0dbc5)\" d=\"M 86.790909 115.92 \r\nL 25.918182 115.92 \r\n\" style=\"fill:none;stroke:#3f3f3f;stroke-linecap:square;stroke-width:1.5;\"/>\r\n   </g>\r\n   <g id=\"line2d_9\">\r\n    <path clip-path=\"url(#p3072e0dbc5)\" d=\"M 269.409091 115.92 \r\nL 330.281818 115.92 \r\n\" style=\"fill:none;stroke:#3f3f3f;stroke-linecap:square;stroke-width:1.5;\"/>\r\n   </g>\r\n   <g id=\"line2d_10\">\r\n    <path clip-path=\"url(#p3072e0dbc5)\" d=\"M 25.918182 72.432 \r\nL 25.918182 159.408 \r\n\" style=\"fill:none;stroke:#3f3f3f;stroke-linecap:square;stroke-width:1.5;\"/>\r\n   </g>\r\n   <g id=\"line2d_11\">\r\n    <path clip-path=\"url(#p3072e0dbc5)\" d=\"M 330.281818 72.432 \r\nL 330.281818 159.408 \r\n\" style=\"fill:none;stroke:#3f3f3f;stroke-linecap:square;stroke-width:1.5;\"/>\r\n   </g>\r\n   <g id=\"line2d_12\"/>\r\n   <g id=\"line2d_13\">\r\n    <path clip-path=\"url(#p3072e0dbc5)\" d=\"M 161.207923 28.944 \r\nL 161.207923 202.896 \r\n\" style=\"fill:none;stroke:#3f3f3f;stroke-linecap:square;stroke-width:1.5;\"/>\r\n   </g>\r\n   <g id=\"patch_4\">\r\n    <path d=\"M 10.7 224.64 \r\nL 10.7 7.2 \r\n\" style=\"fill:none;stroke:#000000;stroke-linecap:square;stroke-linejoin:miter;stroke-width:0.8;\"/>\r\n   </g>\r\n   <g id=\"patch_5\">\r\n    <path d=\"M 345.5 224.64 \r\nL 345.5 7.2 \r\n\" style=\"fill:none;stroke:#000000;stroke-linecap:square;stroke-linejoin:miter;stroke-width:0.8;\"/>\r\n   </g>\r\n   <g id=\"patch_6\">\r\n    <path d=\"M 10.7 224.64 \r\nL 345.5 224.64 \r\n\" style=\"fill:none;stroke:#000000;stroke-linecap:square;stroke-linejoin:miter;stroke-width:0.8;\"/>\r\n   </g>\r\n   <g id=\"patch_7\">\r\n    <path d=\"M 10.7 7.2 \r\nL 345.5 7.2 \r\n\" style=\"fill:none;stroke:#000000;stroke-linecap:square;stroke-linejoin:miter;stroke-width:0.8;\"/>\r\n   </g>\r\n  </g>\r\n </g>\r\n <defs>\r\n  <clipPath id=\"p3072e0dbc5\">\r\n   <rect height=\"217.44\" width=\"334.8\" x=\"10.7\" y=\"7.2\"/>\r\n  </clipPath>\r\n </defs>\r\n</svg>\r\n",
      "image/png": "[encoded data removed]"
     },
     "metadata": {
      "needs_background": "light"
     }
    }
   ],
   "source": [
    "sns.boxplot(x=df_train['CompensationScore'])"
   ]
  },
  {
   "cell_type": "code",
   "execution_count": 635,
   "metadata": {},
   "outputs": [
    {
     "output_type": "stream",
     "name": "stdout",
     "text": [
      "58\n[0.65769431 0.86126325 0.04698748 ... 0.45412537 0.55590984 0.05479699]\n"
     ]
    }
   ],
   "source": [
    "threshold = 3\n",
    "z = np.abs(stats.zscore(df_train['Age']))\n",
    "arr = np.where(z > 3)\n",
    "print(arr[0].size)\n",
    "print(z)"
   ]
  },
  {
   "cell_type": "code",
   "execution_count": 636,
   "metadata": {},
   "outputs": [],
   "source": [
    "for i in range(arr[0].size):\n",
    "    if not ( 5 < df_train['Age'][arr[0][i]] < 80 ):\n",
    "        df_train.drop([arr[0][i]],inplace=True)"
   ]
  },
  {
   "cell_type": "code",
   "execution_count": 637,
   "metadata": {},
   "outputs": [
    {
     "output_type": "stream",
     "name": "stdout",
     "text": [
      "11\n"
     ]
    }
   ],
   "source": [
    "threshold = 3\n",
    "z = np.abs(stats.zscore(df_test['Age']))\n",
    "arr = np.where(z > 3)\n",
    "print(arr[0].size)"
   ]
  },
  {
   "cell_type": "code",
   "execution_count": 638,
   "metadata": {},
   "outputs": [],
   "source": [
    "for i in range(arr[0].size):\n",
    "    if not ( 5 < df_test['Age'][arr[0][i]] < 80 ):\n",
    "        df_test.drop([arr[0][i]],inplace=True)"
   ]
  },
  {
   "cell_type": "code",
   "execution_count": 639,
   "metadata": {},
   "outputs": [],
   "source": [
    "df_train['Age'] = (df_train['Age'] - df_train['Age'].min())/(df_train['Age'].max()-df_train['Age'].min())\n",
    "df_test['Age'] = (df_test['Age'] - df_test['Age'].min())/(df_test['Age'].max()-df_test['Age'].min())"
   ]
  },
  {
   "cell_type": "code",
   "execution_count": 640,
   "metadata": {},
   "outputs": [],
   "source": [
    "df_train['CompensationScore'] = (df_train['CompensationScore'] - df_train['CompensationScore'].min())/(df_train['CompensationScore'].max()-df_train['CompensationScore'].min())\n",
    "df_test['CompensationScore'] = (df_test['CompensationScore'] - df_test['CompensationScore'].min())/(df_test['CompensationScore'].max()-df_test['CompensationScore'].min())"
   ]
  },
  {
   "cell_type": "code",
   "execution_count": 641,
   "metadata": {},
   "outputs": [],
   "source": [
    "scaler = StandardScaler()"
   ]
  },
  {
   "cell_type": "code",
   "execution_count": 642,
   "metadata": {},
   "outputs": [
    {
     "output_type": "execute_result",
     "data": {
      "text/plain": [
       "     LearningPlatformUsefulnessBlogs LearningPlatformUsefulnessKaggle  \\\n",
       "0                        Very useful                      Very useful   \n",
       "1                    Somewhat useful                      Very useful   \n",
       "2                        Very useful                      Very useful   \n",
       "3                        Very useful                      Very useful   \n",
       "4                        Very useful                      Very useful   \n",
       "...                              ...                              ...   \n",
       "5524                     Very useful                      Very useful   \n",
       "5525                 Somewhat useful                  Somewhat useful   \n",
       "5526                 Somewhat useful                      Very useful   \n",
       "5527                     Very useful                      Very useful   \n",
       "5528                     Very useful                      Very useful   \n",
       "\n",
       "     LearningPlatformUsefulnessCourses LearningPlatformUsefulnessProjects  \\\n",
       "0                          Very useful                        Very useful   \n",
       "1                          Very useful                        Very useful   \n",
       "2                      Somewhat useful                        Very useful   \n",
       "3                          Very useful                        Very useful   \n",
       "4                      Somewhat useful                        Very useful   \n",
       "...                                ...                                ...   \n",
       "5524                       Very useful                        Very useful   \n",
       "5525                       Very useful                        Very useful   \n",
       "5526                       Very useful                        Very useful   \n",
       "5527                       Very useful                        Very useful   \n",
       "5528                   Somewhat useful                        Very useful   \n",
       "\n",
       "     LearningPlatformUsefulnessSO LearningPlatformUsefulnessTextbook  \\\n",
       "0                     Very useful                        Very useful   \n",
       "1                     Very useful                        Very useful   \n",
       "2                     Very useful                    Somewhat useful   \n",
       "3                 Somewhat useful                        Very useful   \n",
       "4                     Very useful                        Very useful   \n",
       "...                           ...                                ...   \n",
       "5524                  Very useful                        Very useful   \n",
       "5525                  Very useful                        Very useful   \n",
       "5526                  Very useful                        Very useful   \n",
       "5527                  Very useful                        Very useful   \n",
       "5528                  Very useful                        Very useful   \n",
       "\n",
       "     LearningPlatformUsefulnessYouTube  \n",
       "0                           Not Useful  \n",
       "1                      Somewhat useful  \n",
       "2                      Somewhat useful  \n",
       "3                      Somewhat useful  \n",
       "4                      Somewhat useful  \n",
       "...                                ...  \n",
       "5524                   Somewhat useful  \n",
       "5525                   Somewhat useful  \n",
       "5526                       Very useful  \n",
       "5527                   Somewhat useful  \n",
       "5528                   Somewhat useful  \n",
       "\n",
       "[5521 rows x 7 columns]"
      ],
      "text/html": "<div>\n<style scoped>\n    .dataframe tbody tr th:only-of-type {\n        vertical-align: middle;\n    }\n\n    .dataframe tbody tr th {\n        vertical-align: top;\n    }\n\n    .dataframe thead th {\n        text-align: right;\n    }\n</style>\n<table border=\"1\" class=\"dataframe\">\n  <thead>\n    <tr style=\"text-align: right;\">\n      <th></th>\n      <th>LearningPlatformUsefulnessBlogs</th>\n      <th>LearningPlatformUsefulnessKaggle</th>\n      <th>LearningPlatformUsefulnessCourses</th>\n      <th>LearningPlatformUsefulnessProjects</th>\n      <th>LearningPlatformUsefulnessSO</th>\n      <th>LearningPlatformUsefulnessTextbook</th>\n      <th>LearningPlatformUsefulnessYouTube</th>\n    </tr>\n  </thead>\n  <tbody>\n    <tr>\n      <th>0</th>\n      <td>Very useful</td>\n      <td>Very useful</td>\n      <td>Very useful</td>\n      <td>Very useful</td>\n      <td>Very useful</td>\n      <td>Very useful</td>\n      <td>Not Useful</td>\n    </tr>\n    <tr>\n      <th>1</th>\n      <td>Somewhat useful</td>\n      <td>Very useful</td>\n      <td>Very useful</td>\n      <td>Very useful</td>\n      <td>Very useful</td>\n      <td>Very useful</td>\n      <td>Somewhat useful</td>\n    </tr>\n    <tr>\n      <th>2</th>\n      <td>Very useful</td>\n      <td>Very useful</td>\n      <td>Somewhat useful</td>\n      <td>Very useful</td>\n      <td>Very useful</td>\n      <td>Somewhat useful</td>\n      <td>Somewhat useful</td>\n    </tr>\n    <tr>\n      <th>3</th>\n      <td>Very useful</td>\n      <td>Very useful</td>\n      <td>Very useful</td>\n      <td>Very useful</td>\n      <td>Somewhat useful</td>\n      <td>Very useful</td>\n      <td>Somewhat useful</td>\n    </tr>\n    <tr>\n      <th>4</th>\n      <td>Very useful</td>\n      <td>Very useful</td>\n      <td>Somewhat useful</td>\n      <td>Very useful</td>\n      <td>Very useful</td>\n      <td>Very useful</td>\n      <td>Somewhat useful</td>\n    </tr>\n    <tr>\n      <th>...</th>\n      <td>...</td>\n      <td>...</td>\n      <td>...</td>\n      <td>...</td>\n      <td>...</td>\n      <td>...</td>\n      <td>...</td>\n    </tr>\n    <tr>\n      <th>5524</th>\n      <td>Very useful</td>\n      <td>Very useful</td>\n      <td>Very useful</td>\n      <td>Very useful</td>\n      <td>Very useful</td>\n      <td>Very useful</td>\n      <td>Somewhat useful</td>\n    </tr>\n    <tr>\n      <th>5525</th>\n      <td>Somewhat useful</td>\n      <td>Somewhat useful</td>\n      <td>Very useful</td>\n      <td>Very useful</td>\n      <td>Very useful</td>\n      <td>Very useful</td>\n      <td>Somewhat useful</td>\n    </tr>\n    <tr>\n      <th>5526</th>\n      <td>Somewhat useful</td>\n      <td>Very useful</td>\n      <td>Very useful</td>\n      <td>Very useful</td>\n      <td>Very useful</td>\n      <td>Very useful</td>\n      <td>Very useful</td>\n    </tr>\n    <tr>\n      <th>5527</th>\n      <td>Very useful</td>\n      <td>Very useful</td>\n      <td>Very useful</td>\n      <td>Very useful</td>\n      <td>Very useful</td>\n      <td>Very useful</td>\n      <td>Somewhat useful</td>\n    </tr>\n    <tr>\n      <th>5528</th>\n      <td>Very useful</td>\n      <td>Very useful</td>\n      <td>Somewhat useful</td>\n      <td>Very useful</td>\n      <td>Very useful</td>\n      <td>Very useful</td>\n      <td>Somewhat useful</td>\n    </tr>\n  </tbody>\n</table>\n<p>5521 rows × 7 columns</p>\n</div>"
     },
     "metadata": {},
     "execution_count": 642
    }
   ],
   "source": [
    "df_train.iloc[:, 11:18]"
   ]
  },
  {
   "cell_type": "code",
   "execution_count": 643,
   "metadata": {},
   "outputs": [
    {
     "output_type": "execute_result",
     "data": {
      "text/plain": [
       "   LearningPlatformUsefulnessBlogs  LearningPlatformUsefulnessKaggle  \\\n",
       "0                              1.0                               1.0   \n",
       "1                              0.5                               1.0   \n",
       "2                              1.0                               1.0   \n",
       "3                              1.0                               1.0   \n",
       "4                              1.0                               1.0   \n",
       "\n",
       "   LearningPlatformUsefulnessCourses  LearningPlatformUsefulnessProjects  \\\n",
       "0                                1.0                                 1.0   \n",
       "1                                1.0                                 1.0   \n",
       "2                                0.5                                 1.0   \n",
       "3                                1.0                                 1.0   \n",
       "4                                0.5                                 1.0   \n",
       "\n",
       "   LearningPlatformUsefulnessSO  LearningPlatformUsefulnessTextbook  \\\n",
       "0                           1.0                                 1.0   \n",
       "1                           1.0                                 1.0   \n",
       "2                           1.0                                 0.5   \n",
       "3                           0.5                                 1.0   \n",
       "4                           1.0                                 1.0   \n",
       "\n",
       "   LearningPlatformUsefulnessYouTube  \n",
       "0                                0.0  \n",
       "1                                0.5  \n",
       "2                                0.5  \n",
       "3                                0.5  \n",
       "4                                0.5  "
      ],
      "text/html": "<div>\n<style scoped>\n    .dataframe tbody tr th:only-of-type {\n        vertical-align: middle;\n    }\n\n    .dataframe tbody tr th {\n        vertical-align: top;\n    }\n\n    .dataframe thead th {\n        text-align: right;\n    }\n</style>\n<table border=\"1\" class=\"dataframe\">\n  <thead>\n    <tr style=\"text-align: right;\">\n      <th></th>\n      <th>LearningPlatformUsefulnessBlogs</th>\n      <th>LearningPlatformUsefulnessKaggle</th>\n      <th>LearningPlatformUsefulnessCourses</th>\n      <th>LearningPlatformUsefulnessProjects</th>\n      <th>LearningPlatformUsefulnessSO</th>\n      <th>LearningPlatformUsefulnessTextbook</th>\n      <th>LearningPlatformUsefulnessYouTube</th>\n    </tr>\n  </thead>\n  <tbody>\n    <tr>\n      <th>0</th>\n      <td>1.0</td>\n      <td>1.0</td>\n      <td>1.0</td>\n      <td>1.0</td>\n      <td>1.0</td>\n      <td>1.0</td>\n      <td>0.0</td>\n    </tr>\n    <tr>\n      <th>1</th>\n      <td>0.5</td>\n      <td>1.0</td>\n      <td>1.0</td>\n      <td>1.0</td>\n      <td>1.0</td>\n      <td>1.0</td>\n      <td>0.5</td>\n    </tr>\n    <tr>\n      <th>2</th>\n      <td>1.0</td>\n      <td>1.0</td>\n      <td>0.5</td>\n      <td>1.0</td>\n      <td>1.0</td>\n      <td>0.5</td>\n      <td>0.5</td>\n    </tr>\n    <tr>\n      <th>3</th>\n      <td>1.0</td>\n      <td>1.0</td>\n      <td>1.0</td>\n      <td>1.0</td>\n      <td>0.5</td>\n      <td>1.0</td>\n      <td>0.5</td>\n    </tr>\n    <tr>\n      <th>4</th>\n      <td>1.0</td>\n      <td>1.0</td>\n      <td>0.5</td>\n      <td>1.0</td>\n      <td>1.0</td>\n      <td>1.0</td>\n      <td>0.5</td>\n    </tr>\n  </tbody>\n</table>\n</div>"
     },
     "metadata": {},
     "execution_count": 643
    }
   ],
   "source": [
    "df1 = df_train.iloc[:, 11:18]\n",
    "for column in df1:\n",
    "    df_train[column] = LabelEncoder().fit_transform(df_train[column])\n",
    "    df_train[column] = (df_train[column] - df_train[column].min())/(df_train[column].max()-df_train[column].min())\n",
    "df_train.iloc[:,11:18].head()"
   ]
  },
  {
   "cell_type": "code",
   "execution_count": 644,
   "metadata": {},
   "outputs": [
    {
     "output_type": "execute_result",
     "data": {
      "text/plain": [
       "   LearningPlatformUsefulnessBlogs  LearningPlatformUsefulnessKaggle  \\\n",
       "0                              1.0                               0.5   \n",
       "1                              1.0                               1.0   \n",
       "2                              1.0                               1.0   \n",
       "3                              0.5                               0.5   \n",
       "4                              1.0                               1.0   \n",
       "\n",
       "   LearningPlatformUsefulnessCourses  LearningPlatformUsefulnessProjects  \\\n",
       "0                                1.0                                 1.0   \n",
       "1                                1.0                                 1.0   \n",
       "2                                1.0                                 1.0   \n",
       "3                                1.0                                 1.0   \n",
       "4                                1.0                                 1.0   \n",
       "\n",
       "   LearningPlatformUsefulnessSO  LearningPlatformUsefulnessTextbook  \\\n",
       "0                           0.5                                 1.0   \n",
       "1                           1.0                                 1.0   \n",
       "2                           1.0                                 1.0   \n",
       "3                           1.0                                 1.0   \n",
       "4                           0.5                                 0.5   \n",
       "\n",
       "   LearningPlatformUsefulnessYouTube  \n",
       "0                                0.5  \n",
       "1                                0.5  \n",
       "2                                0.5  \n",
       "3                                0.5  \n",
       "4                                1.0  "
      ],
      "text/html": "<div>\n<style scoped>\n    .dataframe tbody tr th:only-of-type {\n        vertical-align: middle;\n    }\n\n    .dataframe tbody tr th {\n        vertical-align: top;\n    }\n\n    .dataframe thead th {\n        text-align: right;\n    }\n</style>\n<table border=\"1\" class=\"dataframe\">\n  <thead>\n    <tr style=\"text-align: right;\">\n      <th></th>\n      <th>LearningPlatformUsefulnessBlogs</th>\n      <th>LearningPlatformUsefulnessKaggle</th>\n      <th>LearningPlatformUsefulnessCourses</th>\n      <th>LearningPlatformUsefulnessProjects</th>\n      <th>LearningPlatformUsefulnessSO</th>\n      <th>LearningPlatformUsefulnessTextbook</th>\n      <th>LearningPlatformUsefulnessYouTube</th>\n    </tr>\n  </thead>\n  <tbody>\n    <tr>\n      <th>0</th>\n      <td>1.0</td>\n      <td>0.5</td>\n      <td>1.0</td>\n      <td>1.0</td>\n      <td>0.5</td>\n      <td>1.0</td>\n      <td>0.5</td>\n    </tr>\n    <tr>\n      <th>1</th>\n      <td>1.0</td>\n      <td>1.0</td>\n      <td>1.0</td>\n      <td>1.0</td>\n      <td>1.0</td>\n      <td>1.0</td>\n      <td>0.5</td>\n    </tr>\n    <tr>\n      <th>2</th>\n      <td>1.0</td>\n      <td>1.0</td>\n      <td>1.0</td>\n      <td>1.0</td>\n      <td>1.0</td>\n      <td>1.0</td>\n      <td>0.5</td>\n    </tr>\n    <tr>\n      <th>3</th>\n      <td>0.5</td>\n      <td>0.5</td>\n      <td>1.0</td>\n      <td>1.0</td>\n      <td>1.0</td>\n      <td>1.0</td>\n      <td>0.5</td>\n    </tr>\n    <tr>\n      <th>4</th>\n      <td>1.0</td>\n      <td>1.0</td>\n      <td>1.0</td>\n      <td>1.0</td>\n      <td>0.5</td>\n      <td>0.5</td>\n      <td>1.0</td>\n    </tr>\n  </tbody>\n</table>\n</div>"
     },
     "metadata": {},
     "execution_count": 644
    }
   ],
   "source": [
    "df1 = df_test.iloc[:, 11:18]\n",
    "for column in df1:\n",
    "    df_test[column] = LabelEncoder().fit_transform(df_test[column])\n",
    "    df_test[column] = (df_test[column] - df_test[column].min())/(df_test[column].max()-df_test[column].min())\n",
    "df_test.iloc[:,11:18].head()"
   ]
  },
  {
   "cell_type": "code",
   "execution_count": 645,
   "metadata": {},
   "outputs": [
    {
     "output_type": "execute_result",
     "data": {
      "text/plain": [
       "     WorkToolsFrequencyPython WorkToolsFrequencyR WorkToolsFrequencySQL  \\\n",
       "0                       Often    Most of the time                 Often   \n",
       "1                   Sometimes               Often      Most of the time   \n",
       "2                   Sometimes               Often      Most of the time   \n",
       "3                   Sometimes    Most of the time      Most of the time   \n",
       "4            Most of the time    Most of the time      Most of the time   \n",
       "...                       ...                 ...                   ...   \n",
       "5524         Most of the time    Most of the time      Most of the time   \n",
       "5525         Most of the time    Most of the time      Most of the time   \n",
       "5526                    Often    Most of the time      Most of the time   \n",
       "5527                Sometimes    Most of the time                 Often   \n",
       "5528         Most of the time           Sometimes      Most of the time   \n",
       "\n",
       "     WorkMethodsFrequencyCross-Validation  \\\n",
       "0                        Most of the time   \n",
       "1                               Sometimes   \n",
       "2                                   Often   \n",
       "3                        Most of the time   \n",
       "4                        Most of the time   \n",
       "...                                   ...   \n",
       "5524                     Most of the time   \n",
       "5525                     Most of the time   \n",
       "5526                     Most of the time   \n",
       "5527                            Sometimes   \n",
       "5528                     Most of the time   \n",
       "\n",
       "     WorkMethodsFrequencyDataVisualization WorkMethodsFrequencyDecisionTrees  \\\n",
       "0                         Most of the time                             Often   \n",
       "1                         Most of the time                             Often   \n",
       "2                                    Often                             Often   \n",
       "3                                    Often                             Often   \n",
       "4                         Most of the time                             Often   \n",
       "...                                    ...                               ...   \n",
       "5524                      Most of the time                  Most of the time   \n",
       "5525                                 Often                             Often   \n",
       "5526                                 Often                  Most of the time   \n",
       "5527                      Most of the time                             Often   \n",
       "5528                      Most of the time                             Often   \n",
       "\n",
       "     WorkMethodsFrequencyLogisticRegression  \\\n",
       "0                                     Often   \n",
       "1                                     Often   \n",
       "2                                     Often   \n",
       "3                                 Sometimes   \n",
       "4                                 Sometimes   \n",
       "...                                     ...   \n",
       "5524                       Most of the time   \n",
       "5525                                  Often   \n",
       "5526                              Sometimes   \n",
       "5527                              Sometimes   \n",
       "5528                              Sometimes   \n",
       "\n",
       "     WorkMethodsFrequencyNeuralNetworks WorkMethodsFrequencyPCA  \\\n",
       "0                                 Often                   Often   \n",
       "1                                 Often                   Often   \n",
       "2                                 Often               Sometimes   \n",
       "3                                 Often                   Often   \n",
       "4                      Most of the time               Sometimes   \n",
       "...                                 ...                     ...   \n",
       "5524                   Most of the time        Most of the time   \n",
       "5525                              Often                   Often   \n",
       "5526                          Sometimes                   Often   \n",
       "5527                              Often                   Often   \n",
       "5528                              Often                   Often   \n",
       "\n",
       "     WorkMethodsFrequencyRandomForests WorkMethodsFrequencyTimeSeriesAnalysis  \\\n",
       "0                                Often                                  Often   \n",
       "1                                Often                                 Rarely   \n",
       "2                                Often                              Sometimes   \n",
       "3                                Often                              Sometimes   \n",
       "4                                Often                                  Often   \n",
       "...                                ...                                    ...   \n",
       "5524                  Most of the time                       Most of the time   \n",
       "5525                             Often                                  Often   \n",
       "5526                             Often                                  Often   \n",
       "5527                         Sometimes                              Sometimes   \n",
       "5528                             Often                              Sometimes   \n",
       "\n",
       "     WorkChallengeFrequencyPolitics WorkChallengeFrequencyUnusedResults  \\\n",
       "0                             Often                               Often   \n",
       "1                             Often                               Often   \n",
       "2                             Often                           Sometimes   \n",
       "3                             Often                               Often   \n",
       "4                             Often                               Often   \n",
       "...                             ...                                 ...   \n",
       "5524                      Sometimes                               Often   \n",
       "5525                          Often                               Often   \n",
       "5526                      Sometimes                               Often   \n",
       "5527                          Often                               Often   \n",
       "5528                          Often                               Often   \n",
       "\n",
       "     WorkChallengeFrequencyDirtyData WorkChallengeFrequencyExplaining  \\\n",
       "0                              Often                            Often   \n",
       "1                   Most of the time                            Often   \n",
       "2                   Most of the time                            Often   \n",
       "3                   Most of the time                            Often   \n",
       "4                   Most of the time                            Often   \n",
       "...                              ...                              ...   \n",
       "5524                Most of the time                            Often   \n",
       "5525                Most of the time                            Often   \n",
       "5526                Most of the time                            Often   \n",
       "5527                       Sometimes                            Often   \n",
       "5528                           Often                            Often   \n",
       "\n",
       "     WorkChallengeFrequencyTalent WorkChallengeFrequencyClarity  \\\n",
       "0                           Often                         Often   \n",
       "1                           Often                         Often   \n",
       "2                       Sometimes                         Often   \n",
       "3                           Often                        Rarely   \n",
       "4                           Often                         Often   \n",
       "...                           ...                           ...   \n",
       "5524                        Often                         Often   \n",
       "5525                        Often                         Often   \n",
       "5526                    Sometimes                         Often   \n",
       "5527                        Often                         Often   \n",
       "5528                        Often                         Often   \n",
       "\n",
       "     WorkChallengeFrequencyDataAccess  \n",
       "0                               Often  \n",
       "1                               Often  \n",
       "2                    Most of the time  \n",
       "3                              Rarely  \n",
       "4                           Sometimes  \n",
       "...                               ...  \n",
       "5524                            Often  \n",
       "5525                        Sometimes  \n",
       "5526                 Most of the time  \n",
       "5527                            Often  \n",
       "5528                        Sometimes  \n",
       "\n",
       "[5521 rows x 18 columns]"
      ],
      "text/html": "<div>\n<style scoped>\n    .dataframe tbody tr th:only-of-type {\n        vertical-align: middle;\n    }\n\n    .dataframe tbody tr th {\n        vertical-align: top;\n    }\n\n    .dataframe thead th {\n        text-align: right;\n    }\n</style>\n<table border=\"1\" class=\"dataframe\">\n  <thead>\n    <tr style=\"text-align: right;\">\n      <th></th>\n      <th>WorkToolsFrequencyPython</th>\n      <th>WorkToolsFrequencyR</th>\n      <th>WorkToolsFrequencySQL</th>\n      <th>WorkMethodsFrequencyCross-Validation</th>\n      <th>WorkMethodsFrequencyDataVisualization</th>\n      <th>WorkMethodsFrequencyDecisionTrees</th>\n      <th>WorkMethodsFrequencyLogisticRegression</th>\n      <th>WorkMethodsFrequencyNeuralNetworks</th>\n      <th>WorkMethodsFrequencyPCA</th>\n      <th>WorkMethodsFrequencyRandomForests</th>\n      <th>WorkMethodsFrequencyTimeSeriesAnalysis</th>\n      <th>WorkChallengeFrequencyPolitics</th>\n      <th>WorkChallengeFrequencyUnusedResults</th>\n      <th>WorkChallengeFrequencyDirtyData</th>\n      <th>WorkChallengeFrequencyExplaining</th>\n      <th>WorkChallengeFrequencyTalent</th>\n      <th>WorkChallengeFrequencyClarity</th>\n      <th>WorkChallengeFrequencyDataAccess</th>\n    </tr>\n  </thead>\n  <tbody>\n    <tr>\n      <th>0</th>\n      <td>Often</td>\n      <td>Most of the time</td>\n      <td>Often</td>\n      <td>Most of the time</td>\n      <td>Most of the time</td>\n      <td>Often</td>\n      <td>Often</td>\n      <td>Often</td>\n      <td>Often</td>\n      <td>Often</td>\n      <td>Often</td>\n      <td>Often</td>\n      <td>Often</td>\n      <td>Often</td>\n      <td>Often</td>\n      <td>Often</td>\n      <td>Often</td>\n      <td>Often</td>\n    </tr>\n    <tr>\n      <th>1</th>\n      <td>Sometimes</td>\n      <td>Often</td>\n      <td>Most of the time</td>\n      <td>Sometimes</td>\n      <td>Most of the time</td>\n      <td>Often</td>\n      <td>Often</td>\n      <td>Often</td>\n      <td>Often</td>\n      <td>Often</td>\n      <td>Rarely</td>\n      <td>Often</td>\n      <td>Often</td>\n      <td>Most of the time</td>\n      <td>Often</td>\n      <td>Often</td>\n      <td>Often</td>\n      <td>Often</td>\n    </tr>\n    <tr>\n      <th>2</th>\n      <td>Sometimes</td>\n      <td>Often</td>\n      <td>Most of the time</td>\n      <td>Often</td>\n      <td>Often</td>\n      <td>Often</td>\n      <td>Often</td>\n      <td>Often</td>\n      <td>Sometimes</td>\n      <td>Often</td>\n      <td>Sometimes</td>\n      <td>Often</td>\n      <td>Sometimes</td>\n      <td>Most of the time</td>\n      <td>Often</td>\n      <td>Sometimes</td>\n      <td>Often</td>\n      <td>Most of the time</td>\n    </tr>\n    <tr>\n      <th>3</th>\n      <td>Sometimes</td>\n      <td>Most of the time</td>\n      <td>Most of the time</td>\n      <td>Most of the time</td>\n      <td>Often</td>\n      <td>Often</td>\n      <td>Sometimes</td>\n      <td>Often</td>\n      <td>Often</td>\n      <td>Often</td>\n      <td>Sometimes</td>\n      <td>Often</td>\n      <td>Often</td>\n      <td>Most of the time</td>\n      <td>Often</td>\n      <td>Often</td>\n      <td>Rarely</td>\n      <td>Rarely</td>\n    </tr>\n    <tr>\n      <th>4</th>\n      <td>Most of the time</td>\n      <td>Most of the time</td>\n      <td>Most of the time</td>\n      <td>Most of the time</td>\n      <td>Most of the time</td>\n      <td>Often</td>\n      <td>Sometimes</td>\n      <td>Most of the time</td>\n      <td>Sometimes</td>\n      <td>Often</td>\n      <td>Often</td>\n      <td>Often</td>\n      <td>Often</td>\n      <td>Most of the time</td>\n      <td>Often</td>\n      <td>Often</td>\n      <td>Often</td>\n      <td>Sometimes</td>\n    </tr>\n    <tr>\n      <th>...</th>\n      <td>...</td>\n      <td>...</td>\n      <td>...</td>\n      <td>...</td>\n      <td>...</td>\n      <td>...</td>\n      <td>...</td>\n      <td>...</td>\n      <td>...</td>\n      <td>...</td>\n      <td>...</td>\n      <td>...</td>\n      <td>...</td>\n      <td>...</td>\n      <td>...</td>\n      <td>...</td>\n      <td>...</td>\n      <td>...</td>\n    </tr>\n    <tr>\n      <th>5524</th>\n      <td>Most of the time</td>\n      <td>Most of the time</td>\n      <td>Most of the time</td>\n      <td>Most of the time</td>\n      <td>Most of the time</td>\n      <td>Most of the time</td>\n      <td>Most of the time</td>\n      <td>Most of the time</td>\n      <td>Most of the time</td>\n      <td>Most of the time</td>\n      <td>Most of the time</td>\n      <td>Sometimes</td>\n      <td>Often</td>\n      <td>Most of the time</td>\n      <td>Often</td>\n      <td>Often</td>\n      <td>Often</td>\n      <td>Often</td>\n    </tr>\n    <tr>\n      <th>5525</th>\n      <td>Most of the time</td>\n      <td>Most of the time</td>\n      <td>Most of the time</td>\n      <td>Most of the time</td>\n      <td>Often</td>\n      <td>Often</td>\n      <td>Often</td>\n      <td>Often</td>\n      <td>Often</td>\n      <td>Often</td>\n      <td>Often</td>\n      <td>Often</td>\n      <td>Often</td>\n      <td>Most of the time</td>\n      <td>Often</td>\n      <td>Often</td>\n      <td>Often</td>\n      <td>Sometimes</td>\n    </tr>\n    <tr>\n      <th>5526</th>\n      <td>Often</td>\n      <td>Most of the time</td>\n      <td>Most of the time</td>\n      <td>Most of the time</td>\n      <td>Often</td>\n      <td>Most of the time</td>\n      <td>Sometimes</td>\n      <td>Sometimes</td>\n      <td>Often</td>\n      <td>Often</td>\n      <td>Often</td>\n      <td>Sometimes</td>\n      <td>Often</td>\n      <td>Most of the time</td>\n      <td>Often</td>\n      <td>Sometimes</td>\n      <td>Often</td>\n      <td>Most of the time</td>\n    </tr>\n    <tr>\n      <th>5527</th>\n      <td>Sometimes</td>\n      <td>Most of the time</td>\n      <td>Often</td>\n      <td>Sometimes</td>\n      <td>Most of the time</td>\n      <td>Often</td>\n      <td>Sometimes</td>\n      <td>Often</td>\n      <td>Often</td>\n      <td>Sometimes</td>\n      <td>Sometimes</td>\n      <td>Often</td>\n      <td>Often</td>\n      <td>Sometimes</td>\n      <td>Often</td>\n      <td>Often</td>\n      <td>Often</td>\n      <td>Often</td>\n    </tr>\n    <tr>\n      <th>5528</th>\n      <td>Most of the time</td>\n      <td>Sometimes</td>\n      <td>Most of the time</td>\n      <td>Most of the time</td>\n      <td>Most of the time</td>\n      <td>Often</td>\n      <td>Sometimes</td>\n      <td>Often</td>\n      <td>Often</td>\n      <td>Often</td>\n      <td>Sometimes</td>\n      <td>Often</td>\n      <td>Often</td>\n      <td>Often</td>\n      <td>Often</td>\n      <td>Often</td>\n      <td>Often</td>\n      <td>Sometimes</td>\n    </tr>\n  </tbody>\n</table>\n<p>5521 rows × 18 columns</p>\n</div>"
     },
     "metadata": {},
     "execution_count": 645
    }
   ],
   "source": [
    "df_train.iloc[:, 29:47]"
   ]
  },
  {
   "cell_type": "code",
   "execution_count": 646,
   "metadata": {},
   "outputs": [
    {
     "output_type": "stream",
     "name": "stdout",
     "text": [
      "     WorkToolsFrequencyPython  WorkToolsFrequencyR  WorkToolsFrequencySQL  \\\n0                    0.666667             1.000000               0.666667   \n1                    1.000000             1.000000               0.666667   \n2                    1.000000             1.000000               1.000000   \n3                    1.000000             1.000000               1.000000   \n4                    1.000000             1.000000               1.000000   \n..                        ...                  ...                    ...   \n995                  0.000000             0.666667               1.000000   \n996                  1.000000             1.000000               1.000000   \n997                  0.333333             0.666667               0.333333   \n998                  1.000000             1.000000               0.333333   \n999                  0.333333             0.000000               1.000000   \n\n     WorkMethodsFrequencyCross-Validation  \\\n0                                0.333333   \n1                                1.000000   \n2                                1.000000   \n3                                0.333333   \n4                                0.333333   \n..                                    ...   \n995                              0.666667   \n996                              0.666667   \n997                              1.000000   \n998                              0.666667   \n999                              1.000000   \n\n     WorkMethodsFrequencyDataVisualization  WorkMethodsFrequencyDecisionTrees  \\\n0                                 1.000000                           0.666667   \n1                                 1.000000                           0.333333   \n2                                 1.000000                           1.000000   \n3                                 0.666667                           0.666667   \n4                                 1.000000                           0.666667   \n..                                     ...                                ...   \n995                               1.000000                           0.666667   \n996                               1.000000                           0.333333   \n997                               0.666667                           0.666667   \n998                               0.666667                           0.666667   \n999                               1.000000                           0.666667   \n\n     WorkMethodsFrequencyLogisticRegression  \\\n0                                  0.333333   \n1                                  0.666667   \n2                                  0.666667   \n3                                  0.333333   \n4                                  0.666667   \n..                                      ...   \n995                                0.333333   \n996                                0.333333   \n997                                0.666667   \n998                                0.666667   \n999                                0.333333   \n\n     WorkMethodsFrequencyNeuralNetworks  WorkMethodsFrequencyPCA  \\\n0                              0.333333                 0.666667   \n1                              0.666667                 0.333333   \n2                              0.666667                 0.666667   \n3                              0.666667                 0.666667   \n4                              1.000000                 0.666667   \n..                                  ...                      ...   \n995                            0.666667                 0.333333   \n996                            0.666667                 1.000000   \n997                            0.666667                 0.666667   \n998                            0.666667                 0.666667   \n999                            0.000000                 0.666667   \n\n     WorkMethodsFrequencyRandomForests  \\\n0                             0.333333   \n1                             0.333333   \n2                             1.000000   \n3                             0.666667   \n4                             0.666667   \n..                                 ...   \n995                           0.666667   \n996                           0.666667   \n997                           0.666667   \n998                           0.333333   \n999                           0.666667   \n\n     WorkMethodsFrequencyTimeSeriesAnalysis  WorkChallengeFrequencyPolitics  \\\n0                                  0.666667                        0.666667   \n1                                  0.666667                        0.000000   \n2                                  0.666667                        0.666667   \n3                                  0.666667                        0.666667   \n4                                  0.666667                        0.666667   \n..                                      ...                             ...   \n995                                1.000000                        0.666667   \n996                                0.333333                        0.666667   \n997                                0.666667                        0.666667   \n998                                0.000000                        0.666667   \n999                                0.666667                        0.333333   \n\n     WorkChallengeFrequencyUnusedResults  WorkChallengeFrequencyDirtyData  \\\n0                               0.666667                         0.666667   \n1                               0.666667                         0.666667   \n2                               0.666667                         1.000000   \n3                               1.000000                         1.000000   \n4                               0.333333                         1.000000   \n..                                   ...                              ...   \n995                             0.666667                         1.000000   \n996                             0.666667                         0.333333   \n997                             0.666667                         1.000000   \n998                             0.666667                         0.666667   \n999                             0.666667                         1.000000   \n\n     WorkChallengeFrequencyExplaining  WorkChallengeFrequencyTalent  \\\n0                            0.666667                      0.666667   \n1                            0.666667                      0.666667   \n2                            0.666667                      0.666667   \n3                            0.333333                      0.666667   \n4                            0.666667                      0.666667   \n..                                ...                           ...   \n995                          0.666667                      0.666667   \n996                          0.666667                      1.000000   \n997                          0.666667                      0.666667   \n998                          0.666667                      0.333333   \n999                          0.666667                      0.666667   \n\n     WorkChallengeFrequencyClarity  WorkChallengeFrequencyDataAccess  \n0                         0.333333                          0.333333  \n1                         1.000000                          1.000000  \n2                         0.666667                          1.000000  \n3                         1.000000                          0.666667  \n4                         0.333333                          0.333333  \n..                             ...                               ...  \n995                       0.666667                          0.666667  \n996                       0.666667                          0.666667  \n997                       0.666667                          0.666667  \n998                       0.666667                          0.333333  \n999                       0.666667                          0.666667  \n\n[1000 rows x 18 columns]\n"
     ]
    }
   ],
   "source": [
    "custom_mapping = {'Rarely': 0, 'Sometimes': 1, 'Often': 2, 'Most of the time': 3}\n",
    "df2 = df_train.iloc[:, 29:47]\n",
    "for column in df2:\n",
    "    df_train[column] = df_train[column].map(custom_mapping)\n",
    "    df_train[column] = (df_train[column] - df_train[column].min())/(df_train[column].max()-df_train[column].min())\n",
    "    df_test[column] = df_test[column].map(custom_mapping)\n",
    "    df_test[column] = (df_test[column] - df_test[column].min())/(df_test[column].max()-df_test[column].min())\n",
    "print(df_test.iloc[:,29:47])"
   ]
  },
  {
   "cell_type": "code",
   "execution_count": 647,
   "metadata": {},
   "outputs": [],
   "source": [
    "custom_mapping2 = {'3 to 5 years':3, '1 to 2 years':2, '6 to 10 years':4,\n",
    "       'More than 10 years':5, 'Less than a year':1,\n",
    "       \"I don't write code to analyze data\":0}\n",
    "df_train['Tenure'] = df_train['Tenure'].map(custom_mapping2)\n",
    "df_train['Tenure'] = (df_train['Tenure'] - df_train['Tenure'].min())/(df_train['Tenure'].max()-df_train['Tenure'].min())\n",
    "df_test['Tenure'] = df_test['Tenure'].map(custom_mapping2)\n",
    "df_test['Tenure'] = (df_test['Tenure'] - df_test['Tenure'].min())/(df_test['Tenure'].max()-df_test['Tenure'].min())"
   ]
  },
  {
   "cell_type": "code",
   "execution_count": 648,
   "metadata": {},
   "outputs": [],
   "source": [
    "c_m3 = {'51-75% of projects':4, '100% of projects':6, '10-25% of projects':2,\n",
    "       '76-99% of projects':5, 'Less than 10% of projects':1,\n",
    "       '26-50% of projects':3, 'None':0}\n",
    "df_train['WorkDataVisualizations'] = df_train['WorkDataVisualizations'].map(c_m3)\n",
    "df_train['WorkDataVisualizations'] = (df_train['WorkDataVisualizations'] - df_train['WorkDataVisualizations'].min())/(df_train['WorkDataVisualizations'].max()-df_train['WorkDataVisualizations'].min())\n",
    "df_test['WorkDataVisualizations'] = df_test['WorkDataVisualizations'].map(c_m3)\n",
    "df_test['WorkDataVisualizations'] = (df_test['WorkDataVisualizations'] - df_test['WorkDataVisualizations'].min())/(df_test['WorkDataVisualizations'].max()-df_test['WorkDataVisualizations'].min())"
   ]
  },
  {
   "cell_type": "code",
   "execution_count": 649,
   "metadata": {},
   "outputs": [
    {
     "output_type": "execute_result",
     "data": {
      "text/plain": [
       "ID                                          int64\n",
       "GenderSelect                               object\n",
       "Country                                    object\n",
       "Age                                       float64\n",
       "EmploymentStatus                           object\n",
       "CurrentJobTitleSelect                      object\n",
       "TitleFit                                   object\n",
       "CurrentEmployerType                        object\n",
       "MLToolNextYearSelect                       object\n",
       "MLMethodNextYearSelect                     object\n",
       "LanguageRecommendationSelect               object\n",
       "LearningPlatformUsefulnessBlogs           float64\n",
       "LearningPlatformUsefulnessKaggle          float64\n",
       "LearningPlatformUsefulnessCourses         float64\n",
       "LearningPlatformUsefulnessProjects        float64\n",
       "LearningPlatformUsefulnessSO              float64\n",
       "LearningPlatformUsefulnessTextbook        float64\n",
       "LearningPlatformUsefulnessYouTube         float64\n",
       "DataScienceIdentitySelect                  object\n",
       "FormalEducation                            object\n",
       "MajorSelect                                object\n",
       "Tenure                                    float64\n",
       "PastJobTitlesSelect                        object\n",
       "MLSkillsSelect                             object\n",
       "MLTechniquesSelect                         object\n",
       "EmployerIndustry                           object\n",
       "EmployerSize                               object\n",
       "WorkProductionFrequency                    object\n",
       "WorkAlgorithmsSelect                       object\n",
       "WorkToolsFrequencyPython                  float64\n",
       "WorkToolsFrequencyR                       float64\n",
       "WorkToolsFrequencySQL                     float64\n",
       "WorkMethodsFrequencyCross-Validation      float64\n",
       "WorkMethodsFrequencyDataVisualization     float64\n",
       "WorkMethodsFrequencyDecisionTrees         float64\n",
       "WorkMethodsFrequencyLogisticRegression    float64\n",
       "WorkMethodsFrequencyNeuralNetworks        float64\n",
       "WorkMethodsFrequencyPCA                   float64\n",
       "WorkMethodsFrequencyRandomForests         float64\n",
       "WorkMethodsFrequencyTimeSeriesAnalysis    float64\n",
       "WorkChallengeFrequencyPolitics            float64\n",
       "WorkChallengeFrequencyUnusedResults       float64\n",
       "WorkChallengeFrequencyDirtyData           float64\n",
       "WorkChallengeFrequencyExplaining          float64\n",
       "WorkChallengeFrequencyTalent              float64\n",
       "WorkChallengeFrequencyClarity             float64\n",
       "WorkChallengeFrequencyDataAccess          float64\n",
       "CompensationScore                         float64\n",
       "WorkDataVisualizations                    float64\n",
       "WorkInternalVsExternalTools                object\n",
       "WorkMLTeamSeatSelect                       object\n",
       "RemoteWork                                 object\n",
       "dtype: object"
      ]
     },
     "metadata": {},
     "execution_count": 649
    }
   ],
   "source": [
    "df_test.dtypes"
   ]
  },
  {
   "cell_type": "code",
   "execution_count": 650,
   "metadata": {},
   "outputs": [],
   "source": [
    "def intCount(columnN,name,df):\n",
    "    myCount = []\n",
    "    for i in columnN.values:\n",
    "        myCount.append(i.count(',')+1)\n",
    "    norm = [float(i)/max(myCount) for i in myCount]\n",
    "    df.loc[:, name] = norm"
   ]
  },
  {
   "cell_type": "code",
   "execution_count": 651,
   "metadata": {},
   "outputs": [],
   "source": [
    "intCount(df_train.WorkAlgorithmsSelect,'WorkAlgorithmsSelect',df_train)\n",
    "intCount(df_test.WorkAlgorithmsSelect,'WorkAlgorithmsSelect',df_test)"
   ]
  },
  {
   "cell_type": "code",
   "execution_count": 652,
   "metadata": {},
   "outputs": [],
   "source": [
    "intCount(df_train.PastJobTitlesSelect,'PastJobTitlesSelect',df_train)\n",
    "intCount(df_test.PastJobTitlesSelect,'PastJobTitlesSelect',df_test)"
   ]
  },
  {
   "cell_type": "code",
   "execution_count": 653,
   "metadata": {},
   "outputs": [],
   "source": [
    "intCount(df_train.MLTechniquesSelect,'MLTechniquesSelect',df_train)\n",
    "intCount(df_test.MLTechniquesSelect,'MLTechniquesSelect',df_test)"
   ]
  },
  {
   "cell_type": "code",
   "execution_count": 654,
   "metadata": {},
   "outputs": [],
   "source": [
    "intCount(df_train.MLSkillsSelect,'MLSkillsSelect',df_train)\n",
    "intCount(df_test.MLSkillsSelect,'MLSkillsSelect',df_test)"
   ]
  },
  {
   "cell_type": "code",
   "execution_count": 655,
   "metadata": {},
   "outputs": [],
   "source": [
    "intCount(df_train.CurrentEmployerType,'CurrentEmployerType',df_train)\n",
    "intCount(df_test.CurrentEmployerType,'CurrentEmployerType',df_test)\n"
   ]
  },
  {
   "cell_type": "code",
   "execution_count": 658,
   "metadata": {},
   "outputs": [],
   "source": [
    "df_test2 = df_test"
   ]
  },
  {
   "cell_type": "code",
   "execution_count": 659,
   "metadata": {},
   "outputs": [],
   "source": [
    "for column in df_train.columns.values:\n",
    "    if(df_train[column].dtype == 'O'):\n",
    "        new_column = pd.get_dummies(df_train[column],prefix=column,columns=column)\n",
    "        df_train = df_train.merge(new_column,left_index=True,right_index=True)\n",
    "        df_train = df_train.drop(columns=column)  "
   ]
  },
  {
   "cell_type": "code",
   "execution_count": 660,
   "metadata": {},
   "outputs": [
    {
     "output_type": "execute_result",
     "data": {
      "text/plain": [
       "(1000, 52)"
      ]
     },
     "metadata": {},
     "execution_count": 660
    }
   ],
   "source": [
    "df_test2.shape"
   ]
  },
  {
   "cell_type": "code",
   "execution_count": 661,
   "metadata": {},
   "outputs": [],
   "source": [
    "for column in df_test2.columns.values:\n",
    "    if(df_test2[column].dtype == 'O'):\n",
    "        new_column = pd.get_dummies(df_test2[column],prefix=column,columns=column)\n",
    "        df_test2 = df_test2.merge(new_column,left_index=True,right_index=True)\n",
    "        df_test2 = df_test2.drop(columns=column)"
   ]
  },
  {
   "cell_type": "code",
   "execution_count": 662,
   "metadata": {},
   "outputs": [],
   "source": [
    "for i in df_train.columns:\r\n",
    "    if i not in df_test2.columns:\r\n",
    "        if i != 'JobSatisfaction':\r\n",
    "            df_train = df_train.drop(columns=i)"
   ]
  },
  {
   "cell_type": "code",
   "execution_count": 663,
   "metadata": {},
   "outputs": [
    {
     "output_type": "execute_result",
     "data": {
      "text/plain": [
       "(5521, 268)"
      ]
     },
     "metadata": {},
     "execution_count": 663
    }
   ],
   "source": [
    "df_train.shape"
   ]
  },
  {
   "cell_type": "code",
   "execution_count": 664,
   "metadata": {},
   "outputs": [],
   "source": [
    "for i in df_test2.columns:\n",
    "    if i not in df_train.columns:\n",
    "        df_test2 = df_test2.drop(columns=i) "
   ]
  },
  {
   "cell_type": "code",
   "execution_count": 665,
   "metadata": {},
   "outputs": [
    {
     "output_type": "execute_result",
     "data": {
      "text/plain": [
       "(1000, 267)"
      ]
     },
     "metadata": {},
     "execution_count": 665
    }
   ],
   "source": [
    "df_test2.shape"
   ]
  },
  {
   "cell_type": "code",
   "execution_count": 666,
   "metadata": {},
   "outputs": [
    {
     "output_type": "execute_result",
     "data": {
      "text/plain": [
       "(1000, 266)"
      ]
     },
     "metadata": {},
     "execution_count": 666
    }
   ],
   "source": [
    "test_id = df_test2.ID\n",
    "df_test2 = df_test2.drop(columns=['ID'])\n",
    "df_test2.shape"
   ]
  },
  {
   "cell_type": "code",
   "execution_count": 668,
   "metadata": {},
   "outputs": [],
   "source": [
    "z = df_train.ID\n",
    "y = df_train.JobSatisfaction\n",
    "X = df_train.drop(columns = ['JobSatisfaction','ID'])"
   ]
  },
  {
   "cell_type": "code",
   "execution_count": 669,
   "metadata": {},
   "outputs": [],
   "source": [
    "X_train,X_valid,y_train,y_valid=train_test_split(X,y,test_size=0.2, random_state=42)"
   ]
  },
  {
   "cell_type": "code",
   "execution_count": 670,
   "metadata": {},
   "outputs": [
    {
     "output_type": "stream",
     "name": "stdout",
     "text": [
      "(4416, 266)\n(1105, 266)\n(4416,)\n(1105,)\n(1000, 52)\n"
     ]
    }
   ],
   "source": [
    "print(X_train.shape)\n",
    "print(X_valid.shape)\n",
    "print(y_train.shape)\n",
    "print(y_valid.shape)\n",
    "print(df_test.shape)"
   ]
  },
  {
   "cell_type": "code",
   "execution_count": 671,
   "metadata": {},
   "outputs": [],
   "source": [
    "# pca = PCA(.95)\n",
    "# pca.fit(X_train)\n",
    "# X_train = pca.transform(X_train)\n",
    "# X_valid = pca.transform(X_valid)\n"
   ]
  },
  {
   "cell_type": "code",
   "execution_count": 698,
   "metadata": {},
   "outputs": [
    {
     "output_type": "stream",
     "name": "stdout",
     "text": [
      "Root mean squared error:  2.0340999846258176\n"
     ]
    }
   ],
   "source": [
    "reg = LinearRegression().fit(X_train, y_train)\n",
    "y_pred = reg.predict(X_valid)\n",
    "print('Root mean squared error: ', (np.sqrt(mean_squared_error(y_valid, y_pred))))"
   ]
  },
  {
   "cell_type": "code",
   "execution_count": 701,
   "metadata": {},
   "outputs": [
    {
     "output_type": "stream",
     "name": "stdout",
     "text": [
      "Root mean squared error:  1.9557328260718714\n"
     ]
    }
   ],
   "source": [
    "model = GradientBoostingRegressor(n_estimators=200,max_depth=2,loss='ls',random_state=42)\n",
    "model.fit(X_train,y_train)\n",
    "predicted = model.predict(X_valid)\n",
    "print('Root mean squared error: ', (np.sqrt(mean_squared_error(y_valid, predicted))))"
   ]
  },
  {
   "cell_type": "code",
   "execution_count": 674,
   "metadata": {},
   "outputs": [],
   "source": [
    "# # Get numerical feature importances\n",
    "# importances = list(model.feature_importances_)# List of tuples with variable and importance\n",
    "# feature_importances = [(df_train, round(importance, 2)) for df_train, importance in zip(list(df_train.columns), importances)]# Sort the feature importances by most important first\n",
    "# feature_importances = sorted(feature_importances, key = lambda x: x[1], reverse = True)# Print out the feature and importances \n",
    "# # for pair in feature_importances:\n",
    "# #     print(*pair)\n",
    "# for pair in feature_importances:\n",
    "#     if pair[0] != 'JobSatisfaction':\n",
    "#         if pair[1] < 0.01:\n",
    "#             df_train = df_train.drop(columns = pair[0])\n",
    "#             df_test2 = df_test2.drop(columns= pair[0])\n",
    "#     #print('Variable: {:20} Importance: {}'.format(*pair)) "
   ]
  },
  {
   "cell_type": "code",
   "execution_count": 675,
   "metadata": {},
   "outputs": [],
   "source": [
    "# regr = AdaBoostRegressor(random_state=0, n_estimators=100)\n",
    "# regr.fit(X_train,y_train)\n",
    "# predicted = regr.predict(X_valid)\n",
    "# print('Root mean squared error: ', (np.sqrt(mean_squared_error(y_valid, predicted))))"
   ]
  },
  {
   "cell_type": "code",
   "execution_count": 699,
   "metadata": {},
   "outputs": [
    {
     "output_type": "stream",
     "name": "stdout",
     "text": [
      "Root mean squared error:  2.0039677165715175\n"
     ]
    }
   ],
   "source": [
    "regressor = RandomForestRegressor(n_estimators = 100, random_state = 0,max_depth=12,min_samples_split=10) \n",
    "# scores = cross_val_score(regressor, X, y,scoring='neg_mean_squared_error', cv=5)\n",
    "# print(np.sqrt(mean(scores)*-1))\n",
    "regressor.fit(X_train, y_train)   \n",
    "predicted = regressor.predict(X_valid)\n",
    "print('Root mean squared error: ', (np.sqrt(mean_squared_error(y_valid, predicted))))"
   ]
  },
  {
   "cell_type": "code",
   "execution_count": 677,
   "metadata": {},
   "outputs": [],
   "source": [
    "# ereg = VotingRegressor(estimators=[('gb', model), ('rf', regressor), ('gbdt', gbdt)])\n",
    "# ereg.fit(X_train, y_train)\n",
    "# predicted = ereg.predict(X_valid)\n",
    "# print('Root mean squared error: ', (np.sqrt(mean_squared_error(y_valid, predicted))))"
   ]
  },
  {
   "cell_type": "code",
   "execution_count": 678,
   "metadata": {},
   "outputs": [],
   "source": [
    "# gbdt = HistGradientBoostingRegressor()\n",
    "# gbdt.fit(X_train,y_train)\n",
    "# predicted = gbdt.predict(X_valid)\n",
    "# print('Root mean squared error: ', (np.sqrt(mean_squared_error(y_valid, predicted))))"
   ]
  },
  {
   "cell_type": "code",
   "execution_count": 679,
   "metadata": {},
   "outputs": [],
   "source": [
    "# predicted = model.predict(df_test2)\n",
    "# print(predicted)\n"
   ]
  },
  {
   "cell_type": "code",
   "execution_count": 680,
   "metadata": {},
   "outputs": [],
   "source": [
    "# my_submission = pd.DataFrame({'ID': df_test.ID, 'Prediction': predicted})\n",
    "# my_submission.to_csv('submission.csv', index=False)\n",
    "\n"
   ]
  },
  {
   "cell_type": "code",
   "execution_count": 681,
   "metadata": {},
   "outputs": [],
   "source": [
    "# kVals = [5,10,15,20]\n",
    "# rmse_val = []\n",
    "# for k in kVals:\n",
    "#     knn = KNeighborsRegressor(n_neighbors=k)\n",
    "#     # scores = cross_val_score(knn, X, y,scoring='neg_mean_squared_error', cv=5)\n",
    "#     # print(np.sqrt(mean(scores)*-1))\n",
    "#     knn.fit(X_train, y_train)\n",
    "#     pred=knn.predict(X_valid)\n",
    "#     error = np.sqrt(mean_squared_error(y_valid,pred)) #calculate rmse\n",
    "#     rmse_val.append(error) #store rmse values\n",
    "#     print('RMSE value for k= ' , k , 'is:', error)"
   ]
  },
  {
   "cell_type": "code",
   "execution_count": 682,
   "metadata": {},
   "outputs": [],
   "source": [
    "# regressor = DecisionTreeRegressor(random_state=0,max_depth=3)\n",
    "# #cross_val_score(regressor, X, y, cv=10)\n",
    "# regressor.fit(X_train,y_train)"
   ]
  },
  {
   "cell_type": "code",
   "execution_count": 683,
   "metadata": {},
   "outputs": [],
   "source": [
    "# pred = regressor.predict(X_valid)\n",
    "# print('Root mean squared error: ', (np.sqrt(mean_squared_error(y_valid, pred))))"
   ]
  },
  {
   "cell_type": "code",
   "execution_count": 684,
   "metadata": {},
   "outputs": [],
   "source": [
    "# clf = make_pipeline(StandardScaler(), SVC(gamma='auto'))\n",
    "# clf.fit(X_train,y_train)"
   ]
  },
  {
   "cell_type": "code",
   "execution_count": 685,
   "metadata": {},
   "outputs": [],
   "source": [
    "# pred = regr.predict(X_valid)\n",
    "# print('Root mean squared error: ', (np.sqrt(mean_squared_error(y_valid, pred))))"
   ]
  },
  {
   "cell_type": "code",
   "execution_count": 686,
   "metadata": {},
   "outputs": [],
   "source": [
    "# from sklearn.naive_bayes import CategoricalNB\n",
    "# gnb = CategoricalNB()\n",
    "# y_pred = gnb.fit(X_train, y_train).predict(X_valid)\n",
    "# print('Root mean squared error: ', (np.sqrt(mean_squared_error(y_valid, y_pred))))"
   ]
  },
  {
   "cell_type": "code",
   "execution_count": 687,
   "metadata": {},
   "outputs": [],
   "source": [
    "# from sklearn.naive_bayes import MultinomialNB\n",
    "\n",
    "# model = MultinomialNB().fit(X_train, y_train)\n",
    "# predicted = model.predict(X_valid)\n",
    "# print('Root mean squared error: ', (np.sqrt(mean_squared_error(y_valid, predicted))))"
   ]
  },
  {
   "cell_type": "code",
   "execution_count": 688,
   "metadata": {},
   "outputs": [],
   "source": [
    "# from sklearn.naive_bayes import ComplementNB\n",
    "# model = ComplementNB().fit(X_train, y_train)\n",
    "# predicted = model.predict(X_valid)\n",
    "# print('Root mean squared error: ', (np.sqrt(mean_squared_error(y_valid, predicted))))"
   ]
  },
  {
   "cell_type": "code",
   "execution_count": 689,
   "metadata": {},
   "outputs": [],
   "source": [
    "# from sklearn.naive_bayes import BernoulliNB\n",
    "# model = BernoulliNB().fit(X_train, y_train)\n",
    "# predicted = model.predict(X_valid)\n",
    "# print('Root mean squared error: ', (np.sqrt(mean_squared_error(y_valid, predicted))))"
   ]
  },
  {
   "cell_type": "code",
   "execution_count": 690,
   "metadata": {},
   "outputs": [],
   "source": [
    "# regr = MLPRegressor(random_state=1, max_iter=30).fit(X_train, y_train)\n",
    "# pred = regr.predict(X_valid)\n",
    "# print('Root mean squared error: ', (np.sqrt(mean_squared_error(y_valid, pred))))"
   ]
  },
  {
   "cell_type": "code",
   "execution_count": null,
   "metadata": {},
   "outputs": [],
   "source": []
  }
 ]
}